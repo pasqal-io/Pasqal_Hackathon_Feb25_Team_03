{
 "cells": [
  {
   "cell_type": "code",
   "execution_count": null,
   "metadata": {},
   "outputs": [],
   "source": [
    "from TSP_Formulation_Methods import *\n",
    "import numpy as np\n",
    "\n",
    "distances = np.loadtxt(\"./data/matriz-rutas-granada\")\n",
    "\n",
    "# Global Parameters\n",
    "\n",
    "N = 10\n",
    "p = 4\n",
    "L = 3\n",
    "startNodes = [0,1,2]\n",
    "endNodes = [9,8,7]\n",
    "\n",
    "# Process Parameters\n",
    "\n",
    "p = min(p, N-1)\n",
    "startNode = min(startNode, N-1)\n",
    "endNode = min(endNode, N-1)\n",
    "\n",
    "reduced_distances = distances[:N,:N]/np.max(distances[:N,:N])"
   ]
  }
 ],
 "metadata": {
  "language_info": {
   "name": "python"
  }
 },
 "nbformat": 4,
 "nbformat_minor": 2
}

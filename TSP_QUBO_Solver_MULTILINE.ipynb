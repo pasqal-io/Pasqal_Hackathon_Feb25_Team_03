{
 "cells": [
  {
   "cell_type": "code",
   "execution_count": null,
   "metadata": {},
   "outputs": [],
   "source": [
    "from deliverable.main.tsp.TSP_Formulation_Methods import *\n",
    "import numpy as np\n",
    "import glob\n",
    "import os\n",
    "\n",
    "distances_original_matrix = np.loadtxt(\"./data/matriz-rutas-granada\")\n",
    "\n",
    "\n",
    "# Global parameters\n",
    "\n",
    "N = 5 # Number of stops\n",
    "p = 2 # Number of travels, aka number of edges. The number of involucred stops is then p+1\n",
    "num_reads = 4000\n",
    "\n",
    "startNodes = [0,2]\n",
    "endNodes = [1,4]\n",
    "L = len(startNodes)\n",
    "\n",
    "script_dir = os.getcwd()\n",
    "concrete_simulations = \"lambdas\"\n",
    "files_to_find = os.path.join(script_dir, f\"data/lamdasOptimized/{concrete_simulations}*\")\n",
    "list_of_files = glob.glob(files_to_find)\n",
    "\n",
    "all_lambdas = [load_lambda_means(list_of_files) for l in range(L)]\n",
    "# process parameters\n",
    "\n",
    "p = min(p, N-1)\n",
    "startNodes = [min(N-1, s) for s in startNodes]\n",
    "endNodes = [min(N-1, s) for s in endNodes]\n",
    "\n",
    "\n",
    "distances_N_stops_normalized = distances_original_matrix[:N,:N]/np.max(distances_original_matrix[:N,:N])"
   ]
  },
  {
   "cell_type": "code",
   "execution_count": null,
   "metadata": {},
   "outputs": [],
   "source": [
    "# Try to solve in an uniformed way (informed way is removing the stops used in the previous line)\n",
    "\n",
    "\n",
    "solutions_multiple_lines_uninformed = generate_solutions_for_multiple_lines_uninformed(distances_N_stops_normalized, p, startNodes, endNodes, L, all_lambdas, num_reads)\n",
    "\n",
    "check_multiline_validity(solutions_multiple_lines_uninformed, N, p, startNodes, endNodes, L)\n",
    "\n",
    "solution_cost = distance_cost_of_multilines(solutions_multiple_lines_uninformed, distances_N_stops_normalized, p, bidirectional=True)\n",
    "\n",
    "print(\"Cost of the solution: \", solution_cost)\n",
    "\n",
    "Q_matrix_optimal,_ = create_QUBO_matrix(distances_N_stops_normalized, p, startNodes[0], endNodes[0], all_lambdas[0])\n",
    "\n",
    "if is_symmetric(Q_matrix_optimal):\n",
    "    print(\"Q is symmetric\")\n",
    "    #np.savetxt(\"./data/Q_matrix_optimal\", Q_matrix_optimal)\n",
    "\n",
    "draw_multiple_solutions_graph(solutions_multiple_lines_uninformed, distances_N_stops_normalized, p, startNodes, endNodes)"
   ]
  },
  {
   "cell_type": "code",
   "execution_count": null,
   "metadata": {},
   "outputs": [],
   "source": [
    "# Try to solve in an uniformed way trying different start and end nodes and minimizing the total distance\n",
    "\n",
    "all_start_end_combinations = generate_all_start_end_combinations(N, L)\n",
    "\n",
    "best_solution = None\n",
    "best_solution_cost = 1000 # Silly high value\n",
    "best_solution_startNodes = None\n",
    "best_solution_endNodes = None\n",
    "print(\"Longitude of all_start_end_combinations: \", len(all_start_end_combinations), \"\\n\")\n",
    "num_reads = 100\n",
    "for index, (startNodes, endNodes) in enumerate(all_start_end_combinations):\n",
    "    solutions_multiple_lines_uninformed = generate_solutions_for_multiple_lines_uninformed(distances_N_stops_normalized, p, startNodes, endNodes, L, all_lambdas, num_reads)\n",
    "    total_distance = distance_cost_of_multilines(solutions_multiple_lines_uninformed, distances_N_stops_normalized, p, bidirectional=True)\n",
    "    if check_multiline_validity(solutions_multiple_lines_uninformed, N, p, startNodes, endNodes, L, returnFormat=True):\n",
    "        print(\"Valid solution found\")\n",
    "        print(\"Total distance: \", total_distance)\n",
    "        print(\"Start nodes: \", startNodes)\n",
    "        print(\"End nodes: \", endNodes)\n",
    "        print(f\"Still {len(all_start_end_combinations)-index} combinations to check. Looking for the best solution\\n\")\n",
    "        if best_solution_cost > total_distance:\n",
    "            best_solution = solutions_multiple_lines_uninformed\n",
    "            best_solution_cost = total_distance\n",
    "            best_solution_startNodes = startNodes\n",
    "            best_solution_endNodes = endNodes\n",
    "\n",
    "    if best_solution is None:\n",
    "        best_solution = solutions_multiple_lines_uninformed\n",
    "        best_solution_cost = total_distance\n",
    "        best_solution_startNodes = startNodes\n",
    "        best_solution_endNodes = endNodes\n",
    "\n",
    "# all_lambdas_fine_tunning = [load_lambda_means(\"lambdas_N_{}_p_{}_startNode_{}_endNode_{}\".format(N,p,startNodes[l],endNodes[l])) for l in range(L)]\n",
    "print(\"Best solution cost: \", best_solution_cost)\n",
    "print(\"Best solution startNodes: \", best_solution_startNodes)\n",
    "print(\"Best solution endNodes: \", best_solution_endNodes)\n",
    "check_multiline_validity(best_solution, N, p, best_solution_startNodes, best_solution_endNodes, L)\n"
   ]
  },
  {
   "cell_type": "code",
   "execution_count": null,
   "metadata": {},
   "outputs": [],
   "source": [
    "draw_multiple_solutions_graph(best_solution, distances_N_stops_normalized, p, best_solution_startNodes, best_solution_endNodes)"
   ]
  }
 ],
 "metadata": {
  "kernelspec": {
   "display_name": ".venv",
   "language": "python",
   "name": "python3"
  },
  "language_info": {
   "codemirror_mode": {
    "name": "ipython",
    "version": 3
   },
   "file_extension": ".py",
   "mimetype": "text/x-python",
   "name": "python",
   "nbconvert_exporter": "python",
   "pygments_lexer": "ipython3",
   "version": "3.10.12"
  }
 },
 "nbformat": 4,
 "nbformat_minor": 2
}

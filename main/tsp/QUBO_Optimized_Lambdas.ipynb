{
 "cells": [
  {
   "cell_type": "code",
   "execution_count": null,
   "metadata": {},
   "outputs": [],
   "source": [
    "from TSP_Formulation_Methods import *\n",
    "import numpy as np\n",
    "import glob\n",
    "\n",
    "distances_original_matrix = np.loadtxt(\"../../data/matriz-rutas-granada\")"
   ]
  },
  {
   "cell_type": "markdown",
   "metadata": {},
   "source": [
    "# First try: set all lambdas as the upper bound of the cost matrix"
   ]
  },
  {
   "cell_type": "code",
   "execution_count": null,
   "metadata": {},
   "outputs": [],
   "source": [
    "N = 6 # Number of stops\n",
    "p = 2 # Number of travels, aka number of edges. The number of involucred stops is then p+1\n",
    "startNode = 1\n",
    "endNode = 3\n",
    "distances_N_stops_normalized = distances_original_matrix[:N,:N]/np.max(distances_original_matrix[:N,:N])\n",
    "\n",
    "lambdas = [calculate_upper_bound_distances(distances_N_stops_normalized, p) for i in range(5)]\n",
    "Q_matrix,_ = create_QUBO_matrix(distances_N_stops_normalized, p, startNode, endNode, lambdas)\n",
    "combinations_zipped = brute_force_finding(Q_matrix, distances_N_stops_normalized, p)\n",
    "minimal_solution = np.array(list(combinations_zipped[0][0]), dtype=int)\n",
    "\n",
    "show_parameters_of_solution(minimal_solution, distances_N_stops_normalized, N, p, startNode, endNode)\n",
    "\n",
    "draw_solution_graph(minimal_solution, distances_N_stops_normalized, p, startNode, endNode)\n",
    "\n",
    "plot_brute_force_minimums(combinations_zipped, N, p, startNode, endNode, rangePlot=20)\n",
    "    "
   ]
  },
  {
   "cell_type": "code",
   "execution_count": null,
   "metadata": {},
   "outputs": [],
   "source": [
    "# Analysis\n",
    "\n",
    "# Compute the relative diference between the minimum and the second best solution\n",
    "\n",
    "minimal_solution_cost = combinations_zipped[0][1]\n",
    "second_best_solution_cost = combinations_zipped[1][1]\n",
    "relative_difference_two_bests = np.abs((second_best_solution_cost - minimal_solution_cost)/minimal_solution_cost)\n",
    "\n",
    "print(\"The relative difference between the minimum and the second best valid solution is: \", relative_difference_two_bests)\n",
    "\n",
    "# Compute the relative difference between the minimal solution and the first invalid solution (index 5 in this case)\n",
    "\n",
    "first_invalid_solution_cost = combinations_zipped[5][1]\n",
    "relative_difference_minimal_first_invalid = np.abs((first_invalid_solution_cost - minimal_solution_cost)/minimal_solution_cost)\n",
    "\n",
    "print(\"The relative difference between the minimal solution and the first invalid solution is: \", relative_difference_minimal_first_invalid)\n",
    "\n",
    "# CONCLUSIONS:\n",
    "# The upper bound is a valid approximation to find valid solutions, however, the minimums have almost the same energy.\n",
    "# We aim to optimize the lambdas to reduce the (absolute value of the) total energy of the optimal solution"
   ]
  },
  {
   "cell_type": "markdown",
   "metadata": {},
   "source": [
    "## CONCLUSIONS:\n",
    "The upper bound is a valid approximation to find valid solutions, however, the minimums have almost the same energy.\n",
    "We aim to optimize the lambdas to reduce the (absolute value of the) total energy of the optimal solution"
   ]
  },
  {
   "cell_type": "markdown",
   "metadata": {},
   "source": [
    "# Generation of optimized lambdas\n",
    "Methods to generate optimized lambdas (weights) for the QUBO matrix. Below of this systematic search there is a simple example of how to use the optimized lambdas to solve the TSP problem.\n"
   ]
  },
  {
   "cell_type": "code",
   "execution_count": null,
   "metadata": {},
   "outputs": [],
   "source": [
    "# This is a general approach to produce the optimized lambdas for all the possible combinations of N and p\n",
    "import multiprocessing as mp\n",
    "\n",
    "min_N = 1\n",
    "max_N = 6\n",
    "min_p = 1\n",
    "max_p = 3\n",
    "\n",
    "iterations = 5\n",
    "best_combinations_number = 30 # number of best solutions to count for the optimization\n",
    "factor_over_upper_bound = 0.01\n",
    "\n",
    "for N in range(min_N, max_N+1):\n",
    "    for p in range(min_p, min(max_p+1, N)):\n",
    "        L = 1\n",
    "        all_start_end_combinations = generate_all_start_end_combinations(N, L)\n",
    "        distances_N_stops_normalized = distances_original_matrix[:N,:N]/np.max(distances_original_matrix[:N,:N])\n",
    "\n",
    "        args = []\n",
    "        for startNodes, endNodes in all_start_end_combinations:\n",
    "            startNode = startNodes[0]\n",
    "            endNode = endNodes[0]\n",
    "            args.append((distances_N_stops_normalized, p, startNode, endNode, iterations, best_combinations_number, factor_over_upper_bound))\n",
    "\n",
    "        def optimize_and_save(*args):\n",
    "            distances_N_stops_normalized, p, startNode, endNode, iterations, best_combinations_number, factor_over_upper_bound = args\n",
    "            _ , optimized_lambdas, combinations_zipped = optimize_lambdas(\n",
    "                distances_N_stops_normalized,\n",
    "                p, startNode, endNode, \n",
    "                iterations, \n",
    "                best_solution_number=best_combinations_number, factor_over_upper_bound=factor_over_upper_bound)\n",
    "\n",
    "            minimal_solution = np.array(list(combinations_zipped[0][0]), dtype=int)\n",
    "            if check_solution_return(minimal_solution, N, p, startNode, endNode):\n",
    "                np.savetxt(\"./data/lamdasOptimized/lambdas_N_{}_p_{}_startNode_{}_endNode_{}_iterations_{}\".format(N, p,startNode,endNode, iterations ), optimized_lambdas, delimiter=\",\")\n",
    "            else:\n",
    "                print(\"Solution not valid for N={}, p={}, startNode={}, endNode={}\".format(N, p, startNode, endNode))\n",
    "\n",
    "        with mp.Pool(mp.cpu_count()) as pool:\n",
    "            pool.starmap(optimize_and_save, args)\n",
    "            pool.close()\n",
    "            pool.join()\n",
    "        "
   ]
  },
  {
   "cell_type": "markdown",
   "metadata": {},
   "source": [
    "# Example of simple use"
   ]
  },
  {
   "cell_type": "code",
   "execution_count": null,
   "metadata": {},
   "outputs": [],
   "source": [
    "# Global Parameters\n",
    "\n",
    "N = 6 # Number of stops\n",
    "p = 2 # Number of travels, aka number of edges. The number of involucred stops is then p+1\n",
    "startNode = 1\n",
    "endNode = 3\n",
    "\n",
    "iterations = 5\n",
    "best_combinations_number = 30 # number of best solutions to count for the optimization\n",
    "factor_over_upper_bound = 0.001 # Factor over the upper bound to set the initial lambdas\n",
    "\n",
    "# Process Parameters\n",
    "\n",
    "p = min(p, N-1)\n",
    "startNode = min(startNode, N-1)\n",
    "endNode = min(endNode, N-1)\n",
    "distances_N_stops_normalized = distances_original_matrix[:N,:N]/np.max(distances_original_matrix[:N,:N])\n",
    "\n",
    "\n",
    "# Optimization\n",
    "\n",
    "Q_matrix_optimized, optimized_lambdas, combinations_zipped = optimize_lambdas(distances_N_stops_normalized, p, startNode, endNode, iterations=iterations, best_solution_number=best_combinations_number, factor_over_upper_bound=factor_over_upper_bound)\n",
    "optimized_solution,_ = solve_qubo_with_Dwave(Q_matrix_optimized, num_reads=1000)\n",
    "\n",
    "# Show solution\n",
    "\n",
    "Q_matrix_optimized, optimized_solution_cost, optimized_solution_total_cost = show_parameters_of_solution(optimized_solution, distances_N_stops_normalized, N, p, startNode, endNode, optimized_lambdas)\n",
    "\n",
    "print(\"\\nQ matrix of optimized solution:\")\n",
    "print(Q_matrix_optimized)\n",
    "\n",
    "draw_solution_graph(optimized_solution, distances_N_stops_normalized, p, startNode, endNode)"
   ]
  },
  {
   "cell_type": "code",
   "execution_count": null,
   "metadata": {},
   "outputs": [],
   "source": [
    "# Check how distributed are the real minimas \n",
    "\n",
    "global_minimum = np.array(list(combinations_zipped[0][0]), dtype=int)\n",
    "\n",
    "show_parameters_of_solution(global_minimum, distances_N_stops_normalized, N, p, startNode, endNode)\n",
    "\n",
    "draw_solution_graph(global_minimum, distances_N_stops_normalized, p, startNode, endNode)\n",
    "\n",
    "plot_brute_force_minimums(combinations_zipped, N, p, startNode, endNode, rangePlot=30)\n",
    "print(startNode, endNode)\n",
    "\n",
    "# In the final graph, red dots are the valid solutions and the crosses the distance cost of bidirectional routes."
   ]
  },
  {
   "cell_type": "code",
   "execution_count": null,
   "metadata": {},
   "outputs": [],
   "source": [
    "# Analysis\n",
    "\n",
    "# Compute the relative diference between the minimum and the second best valid solution (adjust the index if needed)\n",
    "\n",
    "minimal_solution_cost = combinations_zipped[0][1]\n",
    "second_best_solution_cost = combinations_zipped[1][1]\n",
    "relative_difference_two_bests = np.abs((second_best_solution_cost - minimal_solution_cost)/minimal_solution_cost)\n",
    "\n",
    "print(\"The relative difference between the minimum and the second best valid solution is: \", relative_difference_two_bests)\n",
    "\n",
    "# Compute the relative difference between the minimal solution and the first invalid solution (adjust the index if needed)\n",
    "\n",
    "first_invalid_solution_cost = combinations_zipped[3][1]\n",
    "relative_difference_minimal_first_invalid = np.abs((first_invalid_solution_cost - minimal_solution_cost)/minimal_solution_cost)\n",
    "\n",
    "print(\"The relative difference between the minimal solution and the first invalid solution is: \", relative_difference_minimal_first_invalid)"
   ]
  },
  {
   "cell_type": "markdown",
   "metadata": {},
   "source": [
    "## CONCLUSIONS:\n",
    "\n",
    " We started with a relatively low value for the lamdbas (0.001 * upper_bound) and did relatively few iterations (5) so we could not differentiate the valid solutions from each other or the valid solutions from the invalid ones. We could increase the number of iterations and the factor over the upper bound to get a better approximation of the optimal solution.\n",
    "\n",
    "In the aim of differentiating the valid best solution from any other, setting the factor in 0.01 and do 5 iterations is enough."
   ]
  },
  {
   "cell_type": "code",
   "execution_count": null,
   "metadata": {},
   "outputs": [],
   "source": [
    "# Based on observations made in Analysis_Optimized_Lambdas, a good choice of general lambdas for all N and p can be computed as the maximum value for the first few N and p optimized lambdas\n",
    "\n",
    "\n",
    "max_lambdas = compute_general_lambdas(distances_original_matrix, max_N=5, iterations=5, initial_factor=0.01)\n",
    "print(max_lambdas)"
   ]
  }
 ],
 "metadata": {
  "kernelspec": {
   "display_name": ".venv",
   "language": "python",
   "name": "python3"
  },
  "language_info": {
   "codemirror_mode": {
    "name": "ipython",
    "version": 3
   },
   "file_extension": ".py",
   "mimetype": "text/x-python",
   "name": "python",
   "nbconvert_exporter": "python",
   "pygments_lexer": "ipython3",
   "version": "3.10.13"
  }
 },
 "nbformat": 4,
 "nbformat_minor": 2
}

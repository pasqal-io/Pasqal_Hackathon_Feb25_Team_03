{
 "cells": [
  {
   "cell_type": "code",
   "execution_count": 31,
   "metadata": {},
   "outputs": [],
   "source": [
    "import random\n",
    "import numpy as np\n",
    "import networkx as nx\n",
    "import matplotlib.pyplot as plt"
   ]
  },
  {
   "cell_type": "code",
   "execution_count": 32,
   "metadata": {},
   "outputs": [],
   "source": [
    "# Ejemplo de condición (puedes personalizarla según tus necesidades)\n",
    "def keep(matriz):\n",
    "    num_paradas = 34\n",
    "    if np.sum(matriz) != num_paradas:\n",
    "        return False\n",
    "    elif np.trace(np.linalg.matriz_power(matriz, num_paradas)) <=1:\n",
    "        return False\n",
    "    elif np.all(np.diag(matriz) != 0):\n",
    "        return False\n",
    "    elif np.all(np.sum(matriz, axis=1) > 1):\n",
    "        return False\n",
    "    elif np.all(np.sum(matriz, axis=0) > 1):\n",
    "        return False\n",
    "    else:\n",
    "        return True"
   ]
  },
  {
   "cell_type": "code",
   "execution_count": 33,
   "metadata": {},
   "outputs": [],
   "source": [
    "def generar_grafo_aleatorio(num_nodos, num=200000):\n",
    "    lista_grafos = []\n",
    "    lista_matrices = []\n",
    "    for _ in range(num):\n",
    "        # Crear una matriz de adyacencia vacía (de tamaño num_nodos x num_nodos)\n",
    "        matriz_adyacencia = np.zeros((num_nodos, num_nodos))\n",
    "\n",
    "        # Aplicar condiciones sobre la matriz de adyacencia\n",
    "        for i in range(num_nodos):\n",
    "            for j in range(num_nodos):\n",
    "                # Probabilidad de generar una arista de i a j\n",
    "                matriz_adyacencia[i, j] = random.choice([0, 1])\n",
    "        if keep(matriz_adyacencia):\n",
    "            lista_matrices.append(matriz_adyacencia)\n",
    "            # Crear un grafo dirigido usando la matriz de adyacencia\n",
    "            G = nx.DiGraph()\n",
    "\n",
    "            for i in range(num_nodos):\n",
    "                for j in range(num_nodos):\n",
    "                    if matriz_adyacencia[i, j] != 0:\n",
    "                        G.add_edge(i, j)\n",
    "            \n",
    "            lista_grafos.append(G)\n",
    "\n",
    "    return lista_grafos, lista_matrices\n"
   ]
  },
  {
   "cell_type": "code",
   "execution_count": 34,
   "metadata": {},
   "outputs": [],
   "source": [
    "# Parámetros de entrada\n",
    "num_nodos = 100\n",
    "\n",
    "\n",
    "# Generar el grafo aleatorio y su matriz de adyacencia\n",
    "lista_grafos, lista_matrices = generar_grafo_aleatorio(num_nodos)\n",
    "\n",
    "# Mostrar la matriz de adyacencia\n",
    "for G, matriz_adyacencia in zip(lista_grafos, lista_matrices):\n",
    "    print(\"Matriz de adyacencia generada:\")\n",
    "    print(matriz_adyacencia)\n",
    "\n",
    "    # Dibujar el grafo generado\n",
    "    plt.figure(figsize=(8, 6))\n",
    "    nx.draw(G, with_labels=True, node_size=500, node_color='lightblue', font_size=10, font_weight='bold', arrowsize=20)\n",
    "    plt.title('Grafo Dirigido Aleatorio')\n",
    "    plt.show()\n"
   ]
  }
 ],
 "metadata": {
  "kernelspec": {
   "display_name": "pq",
   "language": "python",
   "name": "python3"
  },
  "language_info": {
   "codemirror_mode": {
    "name": "ipython",
    "version": 3
   },
   "file_extension": ".py",
   "mimetype": "text/x-python",
   "name": "python",
   "nbconvert_exporter": "python",
   "pygments_lexer": "ipython3",
   "version": "3.11.5"
  }
 },
 "nbformat": 4,
 "nbformat_minor": 2
}

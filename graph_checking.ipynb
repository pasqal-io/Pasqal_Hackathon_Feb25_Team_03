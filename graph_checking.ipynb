{
 "cells": [
  {
   "cell_type": "code",
   "execution_count": 71,
   "metadata": {},
   "outputs": [],
   "source": [
    "import random\n",
    "import numpy as np\n",
    "import networkx as nx\n",
    "import matplotlib.pyplot as plt"
   ]
  },
  {
   "cell_type": "code",
   "execution_count": 72,
   "metadata": {},
   "outputs": [],
   "source": [
    "def keep(matriz):\n",
    "    num_paradas = 4\n",
    "    # Condicion pimera :  el número de paradas es fijo e igual a num_paradas\n",
    "    if np.sum(matriz) != num_paradas:\n",
    "        print('Condicion pimera :  el número de paradas es fijo e igual a num_paradas')\n",
    "        return False\n",
    "    # Condicion tercera : el viaje tiene que ser un camino cerrado\n",
    "    elif np.trace(np.linalg.matrix_power(matriz, num_paradas)) <=1:\n",
    "        print('Condicion tercera : el viaje tiene que ser un camino cerrado')\n",
    "        return False\n",
    "    # Condicion cuarta : no puedo ir de una parada a esa misma parada\n",
    "    elif np.all(np.diag(matriz) != 0):\n",
    "        print('Condicion cuarta : no puedo ir de una parada a esa misma parada')\n",
    "        return False\n",
    "    # Condicion quinta : el grado de (entrada,salida) tiene que ser como mucho (1,1)\n",
    "    elif np.all(np.sum(matriz, axis=1) > 1):\n",
    "        print('Condicion quinta : el grado de (entrada,salida) tiene que ser como mucho (1,1)')\n",
    "        return False\n",
    "    elif np.all(np.sum(matriz, axis=0) > 1):\n",
    "        print('Condicion quinta : el grado de (entrada,salida) tiene que ser como mucho (1,1)')\n",
    "        return False\n",
    "    else:\n",
    "        return True"
   ]
  },
  {
   "cell_type": "code",
   "execution_count": 73,
   "metadata": {},
   "outputs": [],
   "source": [
    "def keep_matrices(lista_matrices):\n",
    "    keep_ = False\n",
    "    suma_columnas = 0\n",
    "    matriz_suma = np.zeros_like(lista_matrices[0]) \n",
    "    for A in lista_matrices:\n",
    "        keep_ = keep(A)\n",
    "        # Condicion segunda : todas las paradas se usan al menos una vez\n",
    "        suma_columnas += np.sum(A, axis=0)\n",
    "        matriz_suma += A\n",
    "    # Condicion segunda : todas las paradas se usan al menos una vez\n",
    "    if np.all(suma_columnas < 1):\n",
    "        print('Condicion segunda : todas las paradas se usan al menos una vez')\n",
    "        keep_ = False\n",
    "    # condicion sexta : no hay componentes disconexas\n",
    "    elif np.any(np.linalg.matrix_power(matriz_suma, matriz_suma.shape[0]-1)) <= 0:\n",
    "        print('condicion sexta : no hay componentes disconexas')\n",
    "        keep_ = False\n",
    "\n",
    "    return keep_\n",
    "\n",
    "    "
   ]
  },
  {
   "cell_type": "code",
   "execution_count": 74,
   "metadata": {},
   "outputs": [],
   "source": [
    "lista_matrices = [\n",
    "    np.array([[0,1,0,0],\n",
    "              [1,0,0,0],\n",
    "              [0,0,0,1],\n",
    "              [0,0,1,0]]\n",
    "    )\n",
    "\n",
    "]"
   ]
  },
  {
   "cell_type": "code",
   "execution_count": 75,
   "metadata": {},
   "outputs": [
    {
     "name": "stdout",
     "output_type": "stream",
     "text": [
      "True\n"
     ]
    }
   ],
   "source": [
    "print(keep_matrices(lista_matrices))"
   ]
  },
  {
   "cell_type": "code",
   "execution_count": 76,
   "metadata": {},
   "outputs": [],
   "source": [
    "def generar_grafo_aleatorio(num_nodos, num=200000):\n",
    "    lista_grafos = []\n",
    "    lista_matrices = []\n",
    "    for _ in range(num):\n",
    "        # Crear una matriz de adyacencia vacía (de tamaño num_nodos x num_nodos)\n",
    "        matriz_adyacencia = np.zeros((num_nodos, num_nodos))\n",
    "\n",
    "        # Aplicar condiciones sobre la matriz de adyacencia\n",
    "        for i in range(num_nodos):\n",
    "            for j in range(num_nodos):\n",
    "                # Probabilidad de generar una arista de i a j\n",
    "                matriz_adyacencia[i, j] = random.choice([0, 1])\n",
    "        if keep(matriz_adyacencia):\n",
    "            lista_matrices.append(matriz_adyacencia)\n",
    "            # Crear un grafo dirigido usando la matriz de adyacencia\n",
    "            G = nx.DiGraph()\n",
    "\n",
    "            for i in range(num_nodos):\n",
    "                for j in range(num_nodos):\n",
    "                    if matriz_adyacencia[i, j] != 0:\n",
    "                        G.add_edge(i, j)\n",
    "            \n",
    "            lista_grafos.append(G)\n",
    "\n",
    "    return lista_grafos, lista_matrices\n"
   ]
  },
  {
   "cell_type": "code",
   "execution_count": null,
   "metadata": {},
   "outputs": [],
   "source": []
  },
  {
   "cell_type": "code",
   "execution_count": 77,
   "metadata": {},
   "outputs": [
    {
     "ename": "ModuleNotFoundError",
     "evalue": "No module named '_tkinter'",
     "output_type": "error",
     "traceback": [
      "\u001b[0;31m---------------------------------------------------------------------------\u001b[0m",
      "\u001b[0;31mModuleNotFoundError\u001b[0m                       Traceback (most recent call last)",
      "Cell \u001b[0;32mIn[77], line 1\u001b[0m\n\u001b[0;32m----> 1\u001b[0m \u001b[38;5;28;01mimport\u001b[39;00m\u001b[38;5;250m \u001b[39m\u001b[38;5;21;01mtkinter\u001b[39;00m\u001b[38;5;250m \u001b[39m\u001b[38;5;28;01mas\u001b[39;00m\u001b[38;5;250m \u001b[39m\u001b[38;5;21;01mtk\u001b[39;00m\n\u001b[1;32m      2\u001b[0m \u001b[38;5;28;01mimport\u001b[39;00m\u001b[38;5;250m \u001b[39m\u001b[38;5;21;01mnumpy\u001b[39;00m\u001b[38;5;250m \u001b[39m\u001b[38;5;28;01mas\u001b[39;00m\u001b[38;5;250m \u001b[39m\u001b[38;5;21;01mnp\u001b[39;00m\n\u001b[1;32m      4\u001b[0m \u001b[38;5;28;01mclass\u001b[39;00m\u001b[38;5;250m \u001b[39m\u001b[38;5;21;01mGrafoInteractivo\u001b[39;00m:\n",
      "File \u001b[0;32m/usr/local/Cellar/python@3.11/3.11.5/Frameworks/Python.framework/Versions/3.11/lib/python3.11/tkinter/__init__.py:38\u001b[0m\n\u001b[1;32m     35\u001b[0m \u001b[38;5;28;01mimport\u001b[39;00m\u001b[38;5;250m \u001b[39m\u001b[38;5;21;01msys\u001b[39;00m\n\u001b[1;32m     36\u001b[0m \u001b[38;5;28;01mimport\u001b[39;00m\u001b[38;5;250m \u001b[39m\u001b[38;5;21;01mtypes\u001b[39;00m\n\u001b[0;32m---> 38\u001b[0m \u001b[38;5;28;01mimport\u001b[39;00m\u001b[38;5;250m \u001b[39m\u001b[38;5;21;01m_tkinter\u001b[39;00m \u001b[38;5;66;03m# If this fails your Python may not be configured for Tk\u001b[39;00m\n\u001b[1;32m     39\u001b[0m TclError \u001b[38;5;241m=\u001b[39m _tkinter\u001b[38;5;241m.\u001b[39mTclError\n\u001b[1;32m     40\u001b[0m \u001b[38;5;28;01mfrom\u001b[39;00m\u001b[38;5;250m \u001b[39m\u001b[38;5;21;01mtkinter\u001b[39;00m\u001b[38;5;21;01m.\u001b[39;00m\u001b[38;5;21;01mconstants\u001b[39;00m\u001b[38;5;250m \u001b[39m\u001b[38;5;28;01mimport\u001b[39;00m \u001b[38;5;241m*\u001b[39m\n",
      "\u001b[0;31mModuleNotFoundError\u001b[0m: No module named '_tkinter'"
     ]
    }
   ],
   "source": [
    "import tkinter as tk\n",
    "import numpy as np\n",
    "\n",
    "class GrafoInteractivo:\n",
    "    def __init__(self, num_nodos):\n",
    "        self.num_nodos = num_nodos\n",
    "        self.matriz_adyacencia = np.zeros((num_nodos, num_nodos), dtype=int)\n",
    "        self.nodos = []\n",
    "        self.aristas = []\n",
    "        self.nodo_seleccionado = None\n",
    "\n",
    "        # Crear ventana principal\n",
    "        self.ventana = tk.Tk()\n",
    "        self.ventana.title(\"Crear grafo dirigido\")\n",
    "\n",
    "        # Crear canvas para el grafo\n",
    "        self.canvas = tk.Canvas(self.ventana, width=600, height=600, bg=\"white\")\n",
    "        self.canvas.pack()\n",
    "\n",
    "        # Dibujar nodos\n",
    "        self.dibujar_nodos()\n",
    "\n",
    "        # Eventos\n",
    "        self.canvas.bind(\"<Button-1>\", self.seleccionar_nodo)\n",
    "        self.ventana.protocol(\"WM_DELETE_WINDOW\", self.salir)\n",
    "\n",
    "        # Botón para mostrar la matriz de adyacencia\n",
    "        self.boton_matriz = tk.Button(self.ventana, text=\"Mostrar matriz de adyacencia\", command=self.mostrar_matriz)\n",
    "        self.boton_matriz.pack()\n",
    "\n",
    "        # Iniciar loop de la ventana\n",
    "        self.ventana.mainloop()\n",
    "\n",
    "    def dibujar_nodos(self):\n",
    "        # Dibujar nodos de forma circular\n",
    "        centro_x, centro_y = 300, 300\n",
    "        radio = 200\n",
    "        for i in range(self.num_nodos):\n",
    "            angulo = 2 * np.pi * i / self.num_nodos\n",
    "            x = centro_x + radio * np.cos(angulo)\n",
    "            y = centro_y + radio * np.sin(angulo)\n",
    "            self.nodos.append((x, y))\n",
    "            self.canvas.create_oval(x - 15, y - 15, x + 15, y + 15, fill=\"lightblue\", outline=\"black\", width=2)\n",
    "            self.canvas.create_text(x, y, text=str(i), font=(\"Arial\", 12))\n",
    "\n",
    "    def seleccionar_nodo(self, event):\n",
    "        # Determinar si se ha hecho clic en un nodo\n",
    "        for i, (x, y) in enumerate(self.nodos):\n",
    "            if (x - event.x) ** 2 + (y - event.y) ** 2 <= 15 ** 2:\n",
    "                if self.nodo_seleccionado is None:\n",
    "                    # Seleccionar el primer nodo\n",
    "                    self.nodo_seleccionado = i\n",
    "                    self.canvas.itemconfig(self.canvas.find_withtag(\"current\"), fill=\"yellow\")\n",
    "                else:\n",
    "                    # Crear arista dirigida entre el nodo seleccionado y el clicado\n",
    "                    nodo_origen = self.nodo_seleccionado\n",
    "                    nodo_destino = i\n",
    "                    self.matriz_adyacencia[nodo_origen, nodo_destino] = 1\n",
    "                    self.aristas.append((nodo_origen, nodo_destino))\n",
    "\n",
    "                    # Dibujar la arista\n",
    "                    x1, y1 = self.nodos[nodo_origen]\n",
    "                    x2, y2 = self.nodos[nodo_destino]\n",
    "                    self.dibujar_arista(x1, y1, x2, y2)\n",
    "\n",
    "                    # Deseleccionar el nodo seleccionado\n",
    "                    self.nodo_seleccionado = None\n",
    "                    self.canvas.itemconfig(self.canvas.find_withtag(\"current\"), fill=\"lightblue\")\n",
    "                break\n",
    "\n",
    "    def dibujar_arista(self, x1, y1, x2, y2):\n",
    "        # Dibujar línea con flecha entre dos nodos\n",
    "        self.canvas.create_line(x1, y1, x2, y2, arrow=tk.LAST, width=2, fill=\"black\")\n",
    "\n",
    "    def mostrar_matriz(self):\n",
    "        # Imprimir matriz de adyacencia\n",
    "        print(\"Matriz de adyacencia:\")\n",
    "        print(self.matriz_adyacencia)\n",
    "\n",
    "    def salir(self):\n",
    "        self.ventana.destroy()\n",
    "\n",
    "# Solicitar al usuario el número de nodos\n",
    "num_nodos = int(input(\"Ingrese el número de nodos: \"))\n",
    "GrafoInteractivo(num_nodos)"
   ]
  },
  {
   "cell_type": "code",
   "execution_count": null,
   "metadata": {},
   "outputs": [],
   "source": []
  }
 ],
 "metadata": {
  "kernelspec": {
   "display_name": "pq",
   "language": "python",
   "name": "python3"
  },
  "language_info": {
   "codemirror_mode": {
    "name": "ipython",
    "version": 3
   },
   "file_extension": ".py",
   "mimetype": "text/x-python",
   "name": "python",
   "nbconvert_exporter": "python",
   "pygments_lexer": "ipython3",
   "version": "3.11.5"
  }
 },
 "nbformat": 4,
 "nbformat_minor": 2
}

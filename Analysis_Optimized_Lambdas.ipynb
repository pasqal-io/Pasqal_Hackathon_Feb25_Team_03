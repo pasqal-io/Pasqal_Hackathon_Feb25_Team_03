{
 "cells": [
  {
   "cell_type": "code",
   "execution_count": null,
   "metadata": {},
   "outputs": [],
   "source": [
    "import glob\n",
    "from deliverable.main.tsp.TSP_Formulation_Methods import *\n",
    "import matplotlib.pyplot as plt\n",
    "import numpy as np\n",
    "import os\n",
    "\n",
    "N = 5\n",
    "p = 2\n",
    "num_reads_solver = 4000\n",
    "\n",
    "script_dir = os.getcwd()\n",
    "concrete_simulations = \"lambdas_N_\"\n",
    "files_to_find = os.path.join(script_dir, f\"data/lamdasOptimized/{concrete_simulations}*\")\n",
    "list_of_files = glob.glob(files_to_find)\n",
    "\n",
    "mean_lambdas = load_lambda_means(list_of_files)\n",
    "\n",
    "print(\"Mean lambdas: \", mean_lambdas)\n",
    "distances_original_matrix = np.loadtxt(\"./data/matriz-rutas-granada\")\n",
    "all_start_end_combinations = generate_all_start_end_combinations(N, L=1)\n",
    "distances_N_stops_normalized = distances_original_matrix[:N,:N]/np.max(distances_original_matrix[:N,:N])"
   ]
  },
  {
   "cell_type": "code",
   "execution_count": null,
   "metadata": {},
   "outputs": [],
   "source": [
    "files_to_find = \"./data/lamdasOptimized/\"+concrete_simulations+\"*\"\n",
    "files = glob.glob(files_to_find)\n",
    "\n",
    "all_weights = []\n",
    "\n",
    "for file in files:\n",
    "    weights = np.loadtxt(file)\n",
    "    all_weights.append(weights)\n",
    "\n",
    "all_weights = np.array(all_weights)  # Shape: (num_files, 5)\n",
    "\n",
    "means = np.mean(all_weights, axis=0)\n",
    "variances = np.var(all_weights, axis=0)\n",
    "\n",
    "for i in range(5):\n",
    "    print(f\"Weight λ{i+1}: Mean = {means[i]:.4f}, Variance = {variances[i]:.4f}\")\n",
    "\n",
    "plt.figure(figsize=(10, 5))\n",
    "for i in range(5):\n",
    "    plt.hist(all_weights[:, i], bins=10, alpha=0.6, label=f\"λ{i+1}\")\n",
    "plt.xlabel(\"Valor del peso\")\n",
    "plt.ylabel(\"Frecuencia\")\n",
    "plt.title(\"Distribución de los pesos óptimos\")\n",
    "plt.legend()\n",
    "plt.show()"
   ]
  },
  {
   "cell_type": "code",
   "execution_count": null,
   "metadata": {},
   "outputs": [],
   "source": [
    "plt.boxplot(all_weights, labels=[f\"λ{i+1}\" for i in range(5)])\n",
    "plt.ylabel(\"Weight value\")\n",
    "plt.title(\"Variability of optimal weights\")\n",
    "plt.show()"
   ]
  },
  {
   "cell_type": "code",
   "execution_count": null,
   "metadata": {},
   "outputs": [],
   "source": [
    "# Check on how accurate are the mean weights for each combination of start and end stops\n",
    "\n",
    "solutions_analysis = np.zeros((len(all_start_end_combinations), 3))\n",
    "\n",
    "for index, (startNodes, endNodes) in enumerate(all_start_end_combinations):\n",
    "    startNode = startNodes[0]\n",
    "    endNode = endNodes[0]\n",
    "    solutions_analysis[index][0] = startNode\n",
    "    solutions_analysis[index][1] = endNode\n",
    "    Q_matrix,_ = create_QUBO_matrix(distances_N_stops_normalized, p, startNode, endNode, mean_lambdas)\n",
    "    solution_array, _ = solve_qubo_with_Dwave(Q_matrix, num_reads_solver)\n",
    "    solutions_analysis[index][2] = int(check_solution_return(solution_array, N, p, startNode, endNode))\n",
    "\n",
    "show_statistics_lambdas(solutions_analysis)\n",
    "\n",
    "check_solution(solution_array, N, p, N-2, N-1)\n",
    "draw_solution_graph(solution_array, distances_N_stops_normalized, p, solutions_analysis[-1][0], solutions_analysis[-1][1])\n"
   ]
  }
 ],
 "metadata": {
  "kernelspec": {
   "display_name": ".venv",
   "language": "python",
   "name": "python3"
  },
  "language_info": {
   "codemirror_mode": {
    "name": "ipython",
    "version": 3
   },
   "file_extension": ".py",
   "mimetype": "text/x-python",
   "name": "python",
   "nbconvert_exporter": "python",
   "pygments_lexer": "ipython3",
   "version": "3.10.12"
  }
 },
 "nbformat": 4,
 "nbformat_minor": 2
}

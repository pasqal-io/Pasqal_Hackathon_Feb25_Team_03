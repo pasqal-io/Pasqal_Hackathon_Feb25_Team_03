{
 "cells": [
  {
   "cell_type": "code",
   "execution_count": null,
   "metadata": {},
   "outputs": [],
   "source": [
    "import numpy as np\n",
    "import matplotlib.pyplot as plt\n",
    "from pulser import Pulse, Sequence, Register\n",
    "from pulser_simulation import QutipEmulator\n",
    "from pulser.devices import DigitalAnalogDevice\n",
    "from pulser.waveforms import InterpolatedWaveform\n",
    "from scipy.optimize import minimize\n",
    "from scipy.spatial.distance import pdist, squareform\n",
    "import pandas as pd"
   ]
  },
  {
   "cell_type": "code",
   "execution_count": null,
   "metadata": {},
   "outputs": [],
   "source": [
    "matriz = np.loadtxt('matriz-rutas-granada.txt')\n",
    "\n",
    "matriz = matriz + matriz.T"
   ]
  },
  {
   "cell_type": "code",
   "execution_count": null,
   "metadata": {},
   "outputs": [],
   "source": [
    "Q = matriz[:6, :6]\n",
    "Q = Q/np.max(Q)\n",
    "#Q = np.array(\n",
    "#    [\n",
    "#        [-10.0, 19.7365809, 19.7365809, 5.42015853, 5.42015853],\n",
    "#        [19.7365809, -10.0, 20.67626392, 0.17675796, 0.85604541],\n",
    "#        [19.7365809, 20.67626392, -10.0, 0.85604541, 0.17675796],\n",
    "#        [5.42015853, 0.17675796, 0.85604541, -10.0, 0.32306662],\n",
    "#        [5.42015853, 0.85604541, 0.17675796, 0.32306662, -10.0],\n",
    "#    ]\n",
    "#)"
   ]
  },
  {
   "cell_type": "code",
   "execution_count": null,
   "metadata": {},
   "outputs": [],
   "source": [
    "def evaluate_mapping(new_coords, Q):\n",
    "    \"\"\"Cost function to minimize. Ideally, the pairwise distances are conserved.\"\"\"\n",
    "    new_coords = np.reshape(new_coords, (len(Q), 2))\n",
    "    # computing the matrix of the distances between all coordinate pairs\n",
    "    new_Q = squareform(\n",
    "        DigitalAnalogDevice.interaction_coeff / pdist(new_coords) ** 6\n",
    "    )\n",
    "    return np.linalg.norm(new_Q - Q)"
   ]
  },
  {
   "cell_type": "code",
   "execution_count": null,
   "metadata": {},
   "outputs": [],
   "source": [
    "def biggest_difference(new_Q, Q):\n",
    "    \"\"\"Calcula el mayor error relativo entre los elementos de las matrices new_Q y Q,\n",
    "    solo considerando los valores donde Q no sea cero.\"\"\"\n",
    "    \n",
    "    # Crear una máscara para los valores donde Q no es cero\n",
    "    mask = Q != 0  \n",
    "    \n",
    "    # Calcular error relativo solo en los elementos donde Q ≠ 0\n",
    "    relative_errors = 100*np.abs((new_Q[mask] - Q[mask]) / Q[mask])\n",
    "    \n",
    "    # Devolver el máximo error relativo encontrado\n",
    "    return np.max(relative_errors)"
   ]
  },
  {
   "cell_type": "code",
   "execution_count": null,
   "metadata": {},
   "outputs": [],
   "source": [
    "def compute_element_U(coords):\n",
    "    return (DigitalAnalogDevice.interaction_coeff / (pdist(coords)[0]) ** 6)"
   ]
  },
  {
   "cell_type": "code",
   "execution_count": null,
   "metadata": {},
   "outputs": [],
   "source": [
    "costs = []\n",
    "np.random.seed(0)\n",
    "#x0 = np.random.random(len(Q) * 2)\n",
    "min_Q = np.min(Q[Q>0])\n",
    "max_Q = np.max(Q)\n",
    "x0 = np.random.uniform(min_Q, max_Q, size=len(Q) * 2)\n",
    "\n",
    "res = minimize(\n",
    "    evaluate_mapping,  # Función a minimizar\n",
    "    x0,  # Punto inicial\n",
    "    args=(Q,),  # Parámetro que hay que pasar a la función a minimizar\n",
    "    method=\"Nelder-Mead\",\n",
    "    tol=1e-6,\n",
    "    options={\"maxiter\": 2000000, \"maxfev\": None},\n",
    ")\n",
    "coords = np.reshape(res.x, (len(Q), 2))"
   ]
  },
  {
   "cell_type": "code",
   "execution_count": null,
   "metadata": {},
   "outputs": [],
   "source": [
    "coords"
   ]
  },
  {
   "cell_type": "code",
   "execution_count": null,
   "metadata": {},
   "outputs": [],
   "source": [
    "# Calcular la nueva matriz de distancias con la configuración óptima\n",
    "new_Q = squareform(DigitalAnalogDevice.interaction_coeff / pdist(coords) ** 6)\n"
   ]
  },
  {
   "cell_type": "code",
   "execution_count": null,
   "metadata": {},
   "outputs": [],
   "source": [
    "new_Q"
   ]
  },
  {
   "cell_type": "code",
   "execution_count": null,
   "metadata": {},
   "outputs": [],
   "source": [
    "Q"
   ]
  },
  {
   "cell_type": "code",
   "execution_count": null,
   "metadata": {},
   "outputs": [],
   "source": [
    "qubits = {f\"q{i}\": coord for (i, coord) in enumerate(coords)}\n",
    "reg = Register(qubits)\n",
    "reg.draw(\n",
    "    blockade_radius=DigitalAnalogDevice.rydberg_blockade_radius(1.0),\n",
    "    draw_graph=False,\n",
    "    draw_half_radius=True,\n",
    ")"
   ]
  },
  {
   "cell_type": "markdown",
   "metadata": {},
   "source": [
    "#### Embedding heurístico"
   ]
  },
  {
   "cell_type": "code",
   "execution_count": null,
   "metadata": {},
   "outputs": [],
   "source": [
    "def heuristical_embedding(V, P, Q):\n",
    "    '''\n",
    "    Register Embedding Algorithm (arxiv.org/pdf/2402.05748)\n",
    "\n",
    "    V : set of atoms [0, ..., N-1]\n",
    "\n",
    "    P : set of positions (grid of positions)\n",
    "    \n",
    "    Q : QUBO matrix\n",
    "    '''\n",
    "    Pa = [] # list of already assigned positions\n",
    "\n",
    "    u = V[0]\n",
    "    center = (0.0, 0.0)\n",
    "    Pa.append([u, center])\n",
    "\n",
    "    # Update the remaining atoms and positions\n",
    "    V.remove(u)\n",
    "    P.remove(center)\n",
    "\n",
    "    # Initialize the interactions matrix U\n",
    "    U = np.zeros((len(Q), len(Q)))\n",
    "\n",
    "    while V:\n",
    "        u = V[0]\n",
    "        min_sum = float(\"inf\")\n",
    "        for p in P:\n",
    "            sum = 0\n",
    "            for atom_position in Pa:\n",
    "                # For every already places atom, we unpack the value of the atom and its position\n",
    "                v = atom_position[0] \n",
    "                pv = atom_position[1]\n",
    "\n",
    "                sum += sum + np.abs(Q[u,v]-compute_element_U(np.vstack([p,pv])))\n",
    "                \n",
    "            # If we find the best position available so far\n",
    "            if sum<min_sum:\n",
    "                # Update best position and the actual min_sum\n",
    "                min_sum = sum\n",
    "                best_position = p\n",
    "\n",
    "            # We keep looking for better positions until we have examined all of them\n",
    "\n",
    "        # Update the remaining atoms and position sets and the placed atoms-positions list\n",
    "        Pa.append([u, best_position])\n",
    "        P.remove(best_position)\n",
    "        V.remove(u)\n",
    "\n",
    "        # Prepare the coordinates in array form\n",
    "        coords = np.array([item[1] for item in Pa])\n",
    "\n",
    "    return coords"
   ]
  },
  {
   "cell_type": "code",
   "execution_count": null,
   "metadata": {},
   "outputs": [],
   "source": [
    "Q = matriz[:5, :5]"
   ]
  },
  {
   "cell_type": "code",
   "execution_count": null,
   "metadata": {},
   "outputs": [],
   "source": [
    "atoms_list = [ _ for _ in range(len(Q))]"
   ]
  },
  {
   "cell_type": "code",
   "execution_count": null,
   "metadata": {},
   "outputs": [],
   "source": [
    "atoms_list"
   ]
  },
  {
   "cell_type": "code",
   "execution_count": null,
   "metadata": {},
   "outputs": [],
   "source": [
    "import itertools\n",
    "\n",
    "def generate_grid(x_max, y_max, g):\n",
    "    \"\"\"Genera un grid de puntos en el rango [0, x_max] x [0, y_max] con espaciado g.\n",
    "    \n",
    "    Args:\n",
    "        x_max (float): Máximo valor en el eje X.\n",
    "        y_max (float): Máximo valor en el eje Y.\n",
    "        g (float): Granularidad (espaciado entre puntos).\n",
    "\n",
    "    Returns:\n",
    "        list: Lista de posiciones disponibles en formato [(x1, y1), (x2, y2), ...].\n",
    "    \"\"\"\n",
    "    x_vals = np.round(np.arange(-x_max-g, x_max+g, g), 2)  # Valores en X\n",
    "    y_vals = np.round(np.arange(-y_max-g, y_max+g, g), 2)  # Valores en Y\n",
    "\n",
    "    P = list(itertools.product(x_vals, y_vals))  # Producto cartesiano para crear el grid\n",
    "    return P\n",
    "\n",
    "available_positions = generate_grid(20, 20, 0.01)"
   ]
  },
  {
   "cell_type": "code",
   "execution_count": null,
   "metadata": {},
   "outputs": [],
   "source": [
    "coords = heuristical_embedding(atoms_list.copy(), available_positions.copy(), Q)"
   ]
  },
  {
   "cell_type": "code",
   "execution_count": null,
   "metadata": {},
   "outputs": [],
   "source": [
    "new_Q = squareform(DigitalAnalogDevice.interaction_coeff / pdist(coords) ** 6)\n"
   ]
  },
  {
   "cell_type": "code",
   "execution_count": null,
   "metadata": {},
   "outputs": [],
   "source": [
    "new_Q"
   ]
  },
  {
   "cell_type": "code",
   "execution_count": null,
   "metadata": {},
   "outputs": [],
   "source": [
    "Q"
   ]
  },
  {
   "cell_type": "markdown",
   "metadata": {},
   "source": [
    "#### Exploración"
   ]
  },
  {
   "cell_type": "code",
   "execution_count": null,
   "metadata": {},
   "outputs": [],
   "source": [
    "methods = [\n",
    "    \"Nelder-Mead\",  # Algoritmo simplex (no requiere derivadas)\n",
    "    \"Powell\",       # Algoritmo de búsqueda direccional (sin derivadas)\n",
    "    \"L-BFGS-B\",     # Variante limitada de BFGS (acepta restricciones de caja)\n",
    "    \"TNC\",          # Algoritmo de Newton truncado (adecuado para problemas grandes)\n",
    "    \"COBYLA\",       # Optimización secuencial por aproximaciones cuadráticas\n",
    "    \"SLSQP\"         # Programación cuadrática secuencial\n",
    "]\n",
    "\n"
   ]
  },
  {
   "cell_type": "code",
   "execution_count": null,
   "metadata": {},
   "outputs": [],
   "source": [
    "results = {method_ : [] for method_ in methods}\n",
    "Q = matriz\n",
    "for method_ in methods:\n",
    "    \n",
    "    for n_elements in range (3,11):\n",
    "        \n",
    "        Q_ = Q[:n_elements, :n_elements]\n",
    "        np.random.seed(0)\n",
    "        x0 = np.random.random(len(Q_) * 2)\n",
    "        res = minimize(\n",
    "            evaluate_mapping, #función a minimizar\n",
    "            x0, #punto inicial\n",
    "            args=(Q_,), #parámetro que hay que pasar a la función a minimizar\n",
    "            method=method_,\n",
    "            tol=1e-6,\n",
    "            options={\"maxiter\": 2000000, \"maxfev\": None},\n",
    "        )\n",
    "        coords = np.reshape(res.x, (len(Q_), 2))\n",
    "        new_Q = squareform(DigitalAnalogDevice.interaction_coeff / pdist(coords) ** 6)\n",
    "\n",
    "        # Calcular y almacenar la mayor diferencia relativa\n",
    "        max_error = biggest_difference(new_Q, Q_)\n",
    "        results[method_].append(max_error)\n",
    "\n",
    "# Graficar los resultados\n",
    "plt.figure(figsize=(10, 6))\n",
    "for method_, errors in results.items():\n",
    "    plt.plot(range(3, 11), errors, marker=\"o\", label=method_)\n",
    "\n",
    "plt.xlabel(\"Número de elementos en la matriz Q\")\n",
    "plt.ylabel(\"Mayor error relativo\")\n",
    "plt.title(\"Comparación de métodos de optimización\")\n",
    "plt.legend()\n",
    "plt.grid(True)\n",
    "plt.show()\n",
    "\n",
    "\n",
    "        "
   ]
  }
 ],
 "metadata": {
  "kernelspec": {
   "display_name": "p",
   "language": "python",
   "name": "python3"
  },
  "language_info": {
   "codemirror_mode": {
    "name": "ipython",
    "version": 3
   },
   "file_extension": ".py",
   "mimetype": "text/x-python",
   "name": "python",
   "nbconvert_exporter": "python",
   "pygments_lexer": "ipython3",
   "version": "3.13.1"
  }
 },
 "nbformat": 4,
 "nbformat_minor": 2
}

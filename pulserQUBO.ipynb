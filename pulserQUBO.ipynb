{
 "cells": [
  {
   "cell_type": "code",
   "execution_count": 1,
   "metadata": {},
   "outputs": [],
   "source": [
    "import numpy as np\n",
    "from PulserQUBOMethods import *"
   ]
  },
  {
   "cell_type": "code",
   "execution_count": 24,
   "metadata": {},
   "outputs": [
    {
     "name": "stdout",
     "output_type": "stream",
     "text": [
      "[[-491.5376  102.      102.      102.      102.      101.      101.\n",
      "   101.      101.      100.      100.      100.      100.      100.\n",
      "   100.    ]\n",
      " [ 102.     -488.3637  102.      102.      102.      101.      100.\n",
      "   100.      100.      101.      101.      101.      100.      100.\n",
      "   100.    ]\n",
      " [ 102.      102.     -497.7544  102.      102.      100.      101.\n",
      "   100.      100.      101.      100.      100.      101.      101.\n",
      "   100.    ]\n",
      " [ 102.      102.      102.     -495.294   102.      100.      100.\n",
      "   101.      100.      100.      101.      100.      101.      100.\n",
      "   101.    ]\n",
      " [ 102.      102.      102.      102.     -482.7049  100.      100.\n",
      "   100.      102.      100.      100.      102.      100.      102.\n",
      "   102.    ]\n",
      " [ 101.      101.      100.      100.      100.     -496.764   101.\n",
      "   101.      101.      101.      101.      101.      100.      100.\n",
      "   100.    ]\n",
      " [ 101.      100.      101.      100.      100.      101.     -497.1122\n",
      "   101.      101.      101.      100.      100.      101.      101.\n",
      "   100.    ]\n",
      " [ 101.      100.      100.      101.      100.      101.      101.\n",
      "  -496.313   101.      100.      101.      100.      101.      100.\n",
      "   101.    ]\n",
      " [ 101.      100.      100.      100.      102.      101.      101.\n",
      "   101.     -492.9746  100.      100.      102.      100.      102.\n",
      "   102.    ]\n",
      " [ 100.      101.      101.      100.      100.      101.      101.\n",
      "   100.      100.     -491.3685  101.      101.      101.      101.\n",
      "   100.    ]\n",
      " [ 100.      101.      100.      101.      100.      101.      100.\n",
      "   101.      100.      101.     -490.2325  101.      101.      100.\n",
      "   101.    ]\n",
      " [ 100.      101.      100.      100.      102.      101.      100.\n",
      "   100.      102.      101.      101.     -496.7548  100.      102.\n",
      "   102.    ]\n",
      " [ 100.      100.      101.      101.      100.      100.      101.\n",
      "   101.      100.      101.      101.      100.     -499.5352  101.\n",
      "   101.    ]\n",
      " [ 100.      100.      101.      100.      102.      100.      101.\n",
      "   100.      102.      101.      100.      102.      101.     -488.0579\n",
      "   102.    ]\n",
      " [ 100.      100.      100.      101.      102.      100.      100.\n",
      "   101.      102.      100.      101.      102.      101.      102.\n",
      "  -486.922 ]]\n"
     ]
    }
   ],
   "source": [
    "# First we import the distances matrix\n",
    "\n",
    "distances = np.loadtxt(\"./data/matriz-rutas-granada\")\n",
    "\n",
    "\n",
    "# Now we define the parameters of our problem. To start with less nodes, we will use less than the lenght of the distances matrix\n",
    "\n",
    "N = 6\n",
    "p = 3\n",
    "lambdas = [100.0,1.0,1.0,1.0]\n",
    "activations = [True, True, True, True]\n",
    "reduced_distances = distances[:N,:N]\n",
    "\n",
    "distances_matrix_AdjRep = create_distances_matrix(reduced_distances)\n",
    "\n",
    "R = convert_from_N_to_R(N)\n",
    "distances_matrix_QUBORep = convert_from_adjacency_to_QUBO(distances_matrix_AdjRep)\n",
    "\n",
    "Q_matrix, lambdas = create_QUBO_matrix(lambdas, p, R, distances_matrix_QUBORep, activations)\n",
    "\n",
    "print(Q_matrix)"
   ]
  },
  {
   "cell_type": "code",
   "execution_count": 25,
   "metadata": {},
   "outputs": [
    {
     "name": "stdout",
     "output_type": "stream",
     "text": [
      "[('001001000000100', -892.0536, array([[0., 0., 0., 1., 0., 0.],\n",
      "       [0., 0., 1., 0., 0., 0.],\n",
      "       [0., 0., 0., 0., 0., 0.],\n",
      "       [0., 0., 0., 0., 1., 0.],\n",
      "       [0., 0., 0., 0., 0., 0.],\n",
      "       [0., 0., 0., 0., 0., 0.]]), 11.9464), ('001000000001100', -892.0444, array([[0., 0., 0., 1., 0., 0.],\n",
      "       [0., 0., 0., 0., 0., 0.],\n",
      "       [0., 0., 0., 0., 0., 1.],\n",
      "       [0., 0., 0., 0., 1., 0.],\n",
      "       [0., 0., 0., 0., 0., 0.],\n",
      "       [0., 0., 0., 0., 0., 0.]]), 11.9556), ('000000100001100', -891.4022, array([[0., 0., 0., 0., 0., 0.],\n",
      "       [0., 0., 0., 1., 0., 0.],\n",
      "       [0., 0., 0., 0., 0., 1.],\n",
      "       [0., 0., 0., 0., 1., 0.],\n",
      "       [0., 0., 0., 0., 0., 0.],\n",
      "       [0., 0., 0., 0., 0., 0.]]), 12.5978), ('000001000001100', -891.0540000000001, array([[0., 0., 0., 0., 0., 0.],\n",
      "       [0., 0., 1., 0., 0., 0.],\n",
      "       [0., 0., 0., 0., 0., 1.],\n",
      "       [0., 0., 0., 0., 1., 0.],\n",
      "       [0., 0., 0., 0., 0., 0.],\n",
      "       [0., 0., 0., 0., 0., 0.]]), 12.946000000000002), ('001000010001000', -890.8221999999998, array([[0., 0., 0., 1., 0., 0.],\n",
      "       [0., 0., 0., 0., 1., 0.],\n",
      "       [0., 0., 0., 0., 0., 1.],\n",
      "       [0., 0., 0., 0., 0., 0.],\n",
      "       [0., 0., 0., 0., 0., 0.],\n",
      "       [0., 0., 0., 0., 0., 0.]]), 15.177799999999998), ('000000010001100', -890.6030000000001, array([[0., 0., 0., 0., 0., 0.],\n",
      "       [0., 0., 0., 0., 1., 0.],\n",
      "       [0., 0., 0., 0., 0., 1.],\n",
      "       [0., 0., 0., 0., 1., 0.],\n",
      "       [0., 0., 0., 0., 0., 0.],\n",
      "       [0., 0., 0., 0., 0., 0.]]), 13.396999999999998), ('001000100001000', -889.6214, array([[0., 0., 0., 1., 0., 0.],\n",
      "       [0., 0., 0., 1., 0., 0.],\n",
      "       [0., 0., 0., 0., 0., 1.],\n",
      "       [0., 0., 0., 0., 0., 0.],\n",
      "       [0., 0., 0., 0., 0., 0.],\n",
      "       [0., 0., 0., 0., 0., 0.]]), 14.378599999999999), ('001000010000100', -889.6025999999999, array([[0., 0., 0., 1., 0., 0.],\n",
      "       [0., 0., 0., 0., 1., 0.],\n",
      "       [0., 0., 0., 0., 0., 0.],\n",
      "       [0., 0., 0., 0., 1., 0.],\n",
      "       [0., 0., 0., 0., 0., 0.],\n",
      "       [0., 0., 0., 0., 0., 0.]]), 12.3974), ('000101000000100', -889.5932, array([[0., 0., 0., 0., 1., 0.],\n",
      "       [0., 0., 1., 0., 0., 0.],\n",
      "       [0., 0., 0., 0., 0., 0.],\n",
      "       [0., 0., 0., 0., 1., 0.],\n",
      "       [0., 0., 0., 0., 0., 0.],\n",
      "       [0., 0., 0., 0., 0., 0.]]), 14.4068), ('000100000001100', -889.5840000000001, array([[0., 0., 0., 0., 1., 0.],\n",
      "       [0., 0., 0., 0., 0., 0.],\n",
      "       [0., 0., 0., 0., 0., 1.],\n",
      "       [0., 0., 0., 0., 1., 0.],\n",
      "       [0., 0., 0., 0., 0., 0.],\n",
      "       [0., 0., 0., 0., 0., 0.]]), 14.416)]\n"
     ]
    }
   ],
   "source": [
    "# Find a solution by brute force\n",
    "\n",
    "solutions_zipped = brute_force_finding(Q_matrix, distances_matrix_QUBORep, R)\n",
    "\n",
    "print(solutions_zipped[:10])"
   ]
  },
  {
   "cell_type": "code",
   "execution_count": 26,
   "metadata": {},
   "outputs": [
    {
     "name": "stdout",
     "output_type": "stream",
     "text": [
      "Solution: [0 0 1 0 0 1 0 0 0 0 0 0 1 0 0]\n",
      "Distance of the solution: 11.9464\n",
      "\n",
      "\n",
      "Constraint 1 passed: The lenght of the path is correct.\n",
      "The node  1  has  1.0  connections\n",
      "Constraint 3 passed: The row 0 has exactly one element.\n",
      "The column N-1 has less than one element\n"
     ]
    }
   ],
   "source": [
    "# Check the solution\n",
    "\n",
    "solution = np.array(list(solutions_zipped[0][0]), dtype=int)\n",
    "distance_of_solution = solutions_zipped[0][-1]\n",
    "\n",
    "print(\"Solution:\", solution)\n",
    "print(\"Distance of the solution:\", distance_of_solution)\n",
    "print(\"\\n\")\n",
    "\n",
    "check_constraints(solution, p, R)"
   ]
  },
  {
   "cell_type": "code",
   "execution_count": 27,
   "metadata": {},
   "outputs": [
    {
     "data": {
      "image/png": "[encoded data removed]",
      "text/plain": [
       "<Figure size 640x480 with 1 Axes>"
      ]
     },
     "metadata": {},
     "output_type": "display_data"
    }
   ],
   "source": [
    "# Draw the solution\n",
    "\n",
    "solution_matrix = introduce_array_in_diagonal(solution)\n",
    "solution_adjacency = convert_from_QUBO_to_adjacency(solution_matrix)\n",
    "draw_graph(solution_adjacency, distances_matrix_AdjRep)"
   ]
  }
 ],
 "metadata": {
  "kernelspec": {
   "display_name": "expertcourse",
   "language": "python",
   "name": "python3"
  },
  "language_info": {
   "codemirror_mode": {
    "name": "ipython",
    "version": 3
   },
   "file_extension": ".py",
   "mimetype": "text/x-python",
   "name": "python",
   "nbconvert_exporter": "python",
   "pygments_lexer": "ipython3",
   "version": "3.10.13"
  }
 },
 "nbformat": 4,
 "nbformat_minor": 2
}

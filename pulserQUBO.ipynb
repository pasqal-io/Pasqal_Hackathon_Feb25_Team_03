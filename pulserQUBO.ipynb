{
 "cells": [
  {
   "cell_type": "code",
   "execution_count": null,
   "metadata": {
    "jupyter": {
     "is_executing": true
    }
   },
   "outputs": [],
   "source": [
    "import numpy as np\n",
    "from PulserQUBOMethods import *"
   ]
  },
  {
   "cell_type": "code",
   "execution_count": null,
   "metadata": {},
   "outputs": [],
   "source": [
    "# First we import the distances matrix\n",
    "\n",
    "distances = np.loadtxt(\"./data/matriz-rutas-granada\")\n",
    "\n",
    "\n",
    "# Now we define the parameters of our problem. To start with less nodes, we will use less than the lenght of the distances matrix\n",
    "\n",
    "N = 6\n",
    "p = 5\n",
    "lambdas = [100.0,1.0,1.0,1.0]\n",
    "activations = [True, True, True, True]\n",
    "reduced_distances = distances[:N,:N]\n",
    "\n",
    "distances_matrix_AdjRep = create_distances_matrix(reduced_distances)\n",
    "\n",
    "R = convert_from_N_to_R(N)\n",
    "distances_matrix_QUBORep = convert_from_adjacency_to_QUBO(distances_matrix_AdjRep)\n",
    "\n",
    "Q_matrix, lambdas = create_QUBO_matrix(lambdas, p, R, distances_matrix_QUBORep, activations)\n",
    "\n",
    "print(Q_matrix)\n",
    "\n",
    "np.savetxt(\"./data/Q_matrix\", Q_matrix)"
   ]
  },
  {
   "cell_type": "code",
   "execution_count": null,
   "metadata": {},
   "outputs": [],
   "source": [
    "# Find a solution by brute force\n",
    "\n",
    "solutions_zipped = brute_force_finding(Q_matrix, distances_matrix_QUBORep, R)\n",
    "\n",
    "print(solutions_zipped[:10])"
   ]
  },
  {
   "cell_type": "code",
   "execution_count": null,
   "metadata": {},
   "outputs": [],
   "source": [
    "# Check the solution\n",
    "\n",
    "solution = np.array(list(solutions_zipped[0][0]), dtype=int)\n",
    "distance_of_solution = solutions_zipped[0][-1]\n",
    "\n",
    "print(\"Solution:\", solution)\n",
    "print(\"Distance of the solution:\", distance_of_solution)\n",
    "print(\"\\n\")\n",
    "\n",
    "check_constraints(solution, p, R)"
   ]
  },
  {
   "cell_type": "code",
   "execution_count": null,
   "metadata": {},
   "outputs": [],
   "source": [
    "# Draw the solution\n",
    "\n",
    "solution_matrix = introduce_array_in_diagonal(solution)\n",
    "solution_adjacency = convert_from_QUBO_to_adjacency(solution_matrix)\n",
    "draw_graph(solution_adjacency, distances_matrix_AdjRep)"
   ]
  }
 ],
 "metadata": {
  "kernelspec": {
   "display_name": "expertcourse",
   "language": "python",
   "name": "python3"
  },
  "language_info": {
   "codemirror_mode": {
    "name": "ipython",
    "version": 3
   },
   "file_extension": ".py",
   "mimetype": "text/x-python",
   "name": "python",
   "nbconvert_exporter": "python",
   "pygments_lexer": "ipython3",
   "version": "3.10.13"
  }
 },
 "nbformat": 4,
 "nbformat_minor": 2
}

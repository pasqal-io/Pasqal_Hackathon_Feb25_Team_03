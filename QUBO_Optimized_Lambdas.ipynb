{
 "cells": [
  {
   "cell_type": "code",
   "execution_count": null,
   "metadata": {},
   "outputs": [],
   "source": [
    "from deliverable.main.tsp.TSP_Formulation_Methods import *\n",
    "import numpy as np\n",
    "\n",
    "distances_original_matrix = np.loadtxt(\"./data/matriz-rutas-granada\")\n",
    "\n",
    "# Global Parameters\n",
    "\n",
    "N = 5 # Number of stops\n",
    "p = 2 # Number of travels, aka number of edges. The number of involucred stops is then p+1\n",
    "startNode = 1\n",
    "endNode = 3\n",
    "\n",
    "# Process Parameters\n",
    "\n",
    "p = min(p, N-1)\n",
    "startNode = min(startNode, N-1)\n",
    "endNode = min(endNode, N-1)\n",
    "\n",
    "distances_N_stops_normalized = distances_original_matrix[:N,:N]/np.max(distances_original_matrix[:N,:N])"
   ]
  },
  {
   "cell_type": "code",
   "execution_count": null,
   "metadata": {},
   "outputs": [],
   "source": [
    "\n",
    "iterations_process = 6\n",
    "scalingFactor = 0.1 # Scaling factor of intermediate optimization. No Longer in needed\n",
    "max_iterations_per_process = 1 # Number of iterations per intermediate optimization. Set to 1 to avoid entering into it\n",
    "num_reads_solver = 1000\n",
    "rangePlot = 30\n",
    "\n",
    "optimized_solution, optimized_lambdas = find_optimized_solution(distances_N_stops_normalized, p, N, startNode, endNode, scalingFactor, max_iterations_per_process, num_reads_solver)\n",
    "\n",
    "Q_matrix_optimized,_ = create_QUBO_matrix(distances_N_stops_normalized, p, startNode, endNode, optimized_lambdas)\n",
    "\n",
    "combinations_zipped = brute_force_finding(Q_matrix_optimized, distances_N_stops_normalized, p)\n",
    "\n",
    "violation_of_constraints = count_most_violated_constraints(combinations_zipped, N, p, startNode, endNode, plotRange=rangePlot)\n",
    "\n",
    "initial_lambdas = [optimized_lambdas[i]+violation_of_constraints[i] for i in range(5)]\n",
    "\n",
    "for i in range(iterations_process-1):\n",
    "    optimized_solution, optimized_lambdas = find_optimized_solution(distances_N_stops_normalized, p, N, startNode, endNode, scalingFactor, max_iterations_per_process, num_reads_solver, initial_lambdas)\n",
    "\n",
    "    Q_matrix_optimized,_ = create_QUBO_matrix(distances_N_stops_normalized, p, startNode, endNode, optimized_lambdas)\n",
    "\n",
    "    combinations_zipped = brute_force_finding(Q_matrix_optimized, distances_N_stops_normalized, p)\n",
    "\n",
    "    if i != iterations_process-2:\n",
    "        violation_of_constraints = count_most_violated_constraints(combinations_zipped, N, p, startNode, endNode, plotRange=rangePlot)\n",
    "        initial_lambdas = [optimized_lambdas[i]+violation_of_constraints[i] for i in range(5)]\n",
    "\n",
    "    "
   ]
  },
  {
   "cell_type": "code",
   "execution_count": null,
   "metadata": {},
   "outputs": [],
   "source": [
    "Q_matrix_optimized, optimized_solution_cost, optimized_solution_total_cost = show_parameters_of_solution(optimized_solution, distances_N_stops_normalized, N, p, startNode, endNode, optimized_lambdas)\n",
    "\n",
    "print(\"\\nQ matrix of optimized solution:\")\n",
    "print(Q_matrix_optimized)\n",
    "\n",
    "draw_solution_graph(optimized_solution, distances_N_stops_normalized, p, startNode, endNode)"
   ]
  },
  {
   "cell_type": "code",
   "execution_count": null,
   "metadata": {},
   "outputs": [],
   "source": [
    "global_minimum = np.array(list(combinations_zipped[0][0]), dtype=int)\n",
    "\n",
    "show_parameters_of_solution(global_minimum, distances_N_stops_normalized, N, p, startNode, endNode)\n",
    "\n",
    "draw_solution_graph(global_minimum, distances_N_stops_normalized, p, startNode, endNode)"
   ]
  },
  {
   "cell_type": "code",
   "execution_count": null,
   "metadata": {},
   "outputs": [],
   "source": [
    "plot_brute_force_minimums(combinations_zipped, N, p, startNode, endNode, rangePlot=rangePlot)\n",
    "print(startNode, endNode)"
   ]
  },
  {
   "cell_type": "code",
   "execution_count": null,
   "metadata": {},
   "outputs": [],
   "source": [
    "# Store the lambdas in a file, to be used in the next iteration.\n",
    "# We use the naming to store the lambdas in a folder with the same name as the parameters of the problem\n",
    "# Create the folder data/lambdasOptimized if it does not exist\n",
    "import os\n",
    "try:\n",
    "    os.mkdir(\"./data/lamdasOptimized\")\n",
    "except:\n",
    "    pass\n",
    "\n",
    "np.savetxt(\"./data/lamdasOptimized/lambdas_N_{}_p_{}_startNode_{}_endNode_{}\".format(N, p,startNode,endNode ), optimized_lambdas, delimiter=\",\")"
   ]
  },
  {
   "cell_type": "code",
   "execution_count": null,
   "metadata": {},
   "outputs": [],
   "source": [
    "# Automatized process to generate all combinations of parameters\n",
    "import glob\n",
    "for N in range(2, 5):\n",
    "    for p in range(1, 4):\n",
    "        L = 1\n",
    "        all_start_end_combinations = generate_all_start_end_combinations(N, L)\n",
    "\n",
    "        iterations_process = 5\n",
    "        scalingFactor = 0.1\n",
    "        max_iterations_per_process = 1\n",
    "        num_reads_solver = 1000\n",
    "        rangePlot = 30\n",
    "\n",
    "        for startNodes, endNodes in all_start_end_combinations:\n",
    "            startNode = startNodes[0]\n",
    "            endNode = endNodes[0]\n",
    "            sequence = \"lambdas_N_{}_p_{}_startNode_{}_endNode_{}_\".format(N, p,startNode,endNode)\n",
    "            if len(glob.glob(\"./data/lamdasOptimized/{}*\".format(sequence))) > 0:\n",
    "                continue\n",
    "            else:\n",
    "                distances_N_stops_normalized = distances_original_matrix[:N,:N]/np.max(distances_original_matrix[:N,:N])\n",
    "\n",
    "                optimized_solution, optimized_lambdas = find_optimized_solution(distances_N_stops_normalized, p, N, startNode, endNode, scalingFactor, max_iterations_per_process, num_reads_solver)\n",
    "\n",
    "                Q_matrix_optimized,_ = create_QUBO_matrix(distances_N_stops_normalized, p, startNode, endNode, optimized_lambdas)\n",
    "\n",
    "                combinations_zipped = brute_force_finding(Q_matrix_optimized, distances_N_stops_normalized, p)\n",
    "\n",
    "                violation_of_constraints = count_most_violated_constraints(combinations_zipped, N, p, startNode, endNode, plotRange=rangePlot)\n",
    "\n",
    "                initial_lambdas = [optimized_lambdas[i]+violation_of_constraints[i] for i in range(5)]\n",
    "\n",
    "                for i in range(iterations_process-1):\n",
    "                    optimized_solution, optimized_lambdas = find_optimized_solution(distances_N_stops_normalized, p, N, startNode, endNode, scalingFactor, max_iterations_per_process, num_reads_solver, initial_lambdas)\n",
    "\n",
    "                    Q_matrix_optimized,_ = create_QUBO_matrix(distances_N_stops_normalized, p, startNode, endNode, optimized_lambdas)\n",
    "\n",
    "                    combinations_zipped = brute_force_finding(Q_matrix_optimized, distances_N_stops_normalized, p)\n",
    "\n",
    "                    if i != iterations_process-2:\n",
    "                        violation_of_constraints = count_most_violated_constraints(combinations_zipped, N, p, startNode, endNode, plotRange=rangePlot)\n",
    "                        initial_lambdas = [optimized_lambdas[i]+violation_of_constraints[i] for i in range(5)]\n",
    "\n",
    "                minimmized_solution = np.array(list(combinations_zipped[0][0]), dtype=int)\n",
    "                if check_solution_return(minimmized_solution, N, p, startNode, endNode):\n",
    "                    np.savetxt(\"./data/lamdasOptimized/lambdas_N_{}_p_{}_startNode_{}_endNode_{}_iterations_{}\".format(N, p,startNode,endNode, iterations_process ), optimized_lambdas, delimiter=\",\")\n",
    "\n",
    "                else:\n",
    "                    print(\"Solution not valid for N={}, p={}, startNode={}, endNode={}\".format(N, p, startNode, endNode))\n"
   ]
  }
 ],
 "metadata": {
  "kernelspec": {
   "display_name": ".venv",
   "language": "python",
   "name": "python3"
  },
  "language_info": {
   "codemirror_mode": {
    "name": "ipython",
    "version": 3
   },
   "file_extension": ".py",
   "mimetype": "text/x-python",
   "name": "python",
   "nbconvert_exporter": "python",
   "pygments_lexer": "ipython3",
   "version": "3.10.12"
  }
 },
 "nbformat": 4,
 "nbformat_minor": 2
}

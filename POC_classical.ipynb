{
 "cells": [
  {
   "cell_type": "markdown",
   "metadata": {},
   "source": [
    "# Proof of Concept. Classical approach and checks\n",
    "\n",
    "This Notebook serves as an insight on how the future capabilities of the optimization algorithm once we have access to a more powerfull Quantum Solver (see first the main POC for more information). To do that we rely here in simulated annealing, which performs well for small values of N and p, to show the complete map of a fully connected public transport network.\n",
    "\n",
    "## Requirements and Setup\n",
    "\n",
    "In order to execute this notebook, make sure you have already installed the necessary requirements described in the README.md.\n",
    "The following are all the necessary imports to run the entire notebook, from start to end."
   ]
  },
  {
   "cell_type": "code",
   "execution_count": null,
   "metadata": {},
   "outputs": [],
   "source": [
    "import os \n",
    "import glob\n",
    "import pandas as pd \n",
    "import numpy as np\n",
    "from main.tree.linkageTree import linkageCut\n",
    "from main.tsp.TSP_Formulation_Methods import ( \n",
    "    create_QUBO_matrix,\n",
    "    solve_qubo_with_Dwave,\n",
    "    compute_general_lambdas,\n",
    ")\n",
    "from main.tree.utils import ( \n",
    "    view_linkage_on_map, \n",
    "    draw_centers_on_map,\n",
    "    map_draw_line,\n",
    "    convert_bitstring_to_matrix,\n",
    "    assemble_line,\n",
    "    check_stops_usage\n",
    ")\n",
    "from main.pipe import give_line\n",
    "from data.utils import fetch_amenities_from"
   ]
  },
  {
   "cell_type": "markdown",
   "metadata": {},
   "source": [
    "# Load initial data \n",
    "\n",
    "As in the main POC, we must first fetch data from a specific city.\n",
    "In this case, we fetch the data from Granada, Spain. The data consists of local amenities. We call our hierarchical clustering algorithm (ward distance) to propose a city multi-level view. In this proof of concept we will work with 2 levels, that means that the level 0\n",
    "will create nclusters (red) and level 1 will further divide each cluster in nclusters (blue)."
   ]
  },
  {
   "cell_type": "code",
   "execution_count": null,
   "metadata": {},
   "outputs": [],
   "source": [
    "# Load previously stored overpy lat/lon datafile for different amenities\n",
    "filepath = os.path.join('data', 'amenities-granada.csv')\n",
    "if os.path.exists(filepath):\n",
    "    amenities_data = pd.read_csv(filepath)\n",
    "else:\n",
    "    # If there is no previous data:\n",
    "    query_file = os.path.join('data', 'overpy-granada-query.txt')\n",
    "    query = None\n",
    "    with open(query_file) as file:\n",
    "        query = file.read()\n",
    "    amenities_data = fetch_amenities_from(query=query) # Defaults to Granada\n",
    "    amenities_data.to_csv(filepath)\n",
    "    \n",
    "# Create a hierarchical clustering of amenities\n",
    "hierarchical_cluster = linkageCut(amenities_data)\n",
    "# Set a specific number of clusters per levels. Max 9 in this POC\n",
    "nclusters = 4\n",
    "levels = 2\n",
    "labels = hierarchical_cluster.top_down_view_recur(nclusters=nclusters, levels=2)\n",
    "# Visualize for debugging purposes.\n",
    "view_linkage_on_map(linkage_matrix=hierarchical_cluster)"
   ]
  },
  {
   "cell_type": "markdown",
   "metadata": {},
   "source": [
    "# Create the first bus line at all levels\n",
    "\n",
    "We will follow the workflow from the main POC.\n",
    "\n",
    "We call Level 0 solutions to the larger regions( i.e., clusters) defined by the clustering. These will define the general flow of the bus \n",
    "route, dictating how we will connect the real bus stops once we solve the 'zoomed-in' problem.\n",
    "We show the division proposed by the hierarchical algorithm, which for the city of Granada is in fact close to a district level organization. \n",
    "\n",
    "For our example we will impose two random nodes as start and endpoints for the first bus line. This works as a typical use-case: say we wanted to connect a marginalized area with another area where public services or/and green spaces are available. These extreme nodes will work as the extremes of the route. Additionally, we will fix for the route to traverse a fixed (p) number of districts (level-0 clusters).\n",
    "\n",
    "Level 1 solutions are solutions for a given line in an specific region of the city. If a bus line goes from or to a specific region (in our example we have 4), the solver should give the route the bus follow inside that region with the specified number of stops (p). Aftet solving in each region, we assemble the whole route as a single-line, connecting regions.\n"
   ]
  },
  {
   "cell_type": "code",
   "execution_count": null,
   "metadata": {},
   "outputs": [],
   "source": [
    "# Fetch the centers of the first level\n",
    "centers = hierarchical_cluster.give_centers_level(0)\n",
    "\n",
    "np.random.seed(42)\n",
    "\n",
    "# Fetch the distance from the centers of the first level\n",
    "distances = hierarchical_cluster.dist_matrix_level(0, return_labels=False)\n",
    "\n",
    "# Set initial global parameters\n",
    "N = distances.shape[0]\n",
    "p = 3\n",
    "node_options = set(np.arange(nclusters) + 1)\n",
    "startNode_0 = np.random.choice(list(node_options))\n",
    "endNode_0 = np.random.choice(list(node_options - set([startNode_0])))\n",
    "print(\"Selected random nodes:\", startNode_0, endNode_0)\n",
    "\n",
    "# Process Parameters\n",
    "p= min(p, N-1)\n",
    "startNode_0 = min(startNode_0, N)\n",
    "endNode_0 = min(endNode_0, N)\n",
    "\n",
    "reduced_distances = distances/np.max(distances)\n",
    "maxDistance = np.max(reduced_distances)\n",
    "lambdas = compute_general_lambdas(reduced_distances, max_N=3)\n",
    "\n",
    "# Solve level 0\n",
    "Q_matrix_initial,_ = create_QUBO_matrix(reduced_distances, p, startNode_0 - 1, endNode_0 - 1, lambdas)   \n",
    "level0_sols, _ = solve_qubo_with_Dwave(Q_matrix_initial, num_reads=1000)\n",
    "adjacency = convert_bitstring_to_matrix(level0_sols, N=N, p=p)\n",
    "\n",
    "# Solve level 1\n",
    "level1_sols = {} # Dict that will hold the bitstring, connected level-0 clusters and corresponding start-end nodes \n",
    "nchecks = 1024\n",
    "all_indices = set(np.arange(nclusters - 1) + 1)\n",
    "for i in range(1, nclusters+1):\n",
    "    \n",
    "    connections = np.concatenate([adjacency[:,i-1].nonzero()[0], adjacency[i-1, :].nonzero()[0]], axis=0) + 1\n",
    "    print(\"----- Solving level-1:\", i, \"------\\n\")\n",
    "    print(\"connections\", connections)\n",
    "    if len(connections) > 0: #Selected\n",
    "        # Fetch the centers of the first level\n",
    "        distances, closest, _ = hierarchical_cluster.dist_matrix_label_down(\n",
    "        i,\n",
    "        connections=connections,\n",
    "        )\n",
    "        \n",
    "        startNode_ = None\n",
    "        if len(closest) >= 1:\n",
    "            startNode_ = closest[0]\n",
    "            choices = all_indices - set([startNode_])\n",
    "        if len(closest) == 2:\n",
    "            endNode_ = closest[1]\n",
    "        else:\n",
    "            endNode_ = np.random.choice(list(choices)) # POC criterion, better heuristic should be chosen\n",
    "        print(\"Start-end\", startNode_, endNode_)\n",
    "        reduced_distances = distances / np.max(distances)\n",
    "        Q_matrix_initial,_ = create_QUBO_matrix(reduced_distances, p, startNode_ - 1, endNode_ - 1, lambdas)\n",
    "        \n",
    "\n",
    "\n",
    "        sol_, _ = solve_qubo_with_Dwave(Q_matrix_initial, num_reads=1000)\n",
    "        level1_sols[i] = [sol_, closest]\n",
    "        \n",
    "    else:\n",
    "        level1_sols[i] = (np.zeros((nclusters*(p + 1))), [])\n",
    "        print('The line does not cross this level-0 cluster')\n",
    "\n",
    "assembled_line_1 = assemble_line(level0_sols,level1_sols, nclusters, p)\n",
    "centers_level1 = hierarchical_cluster.give_centers_level(1)\n",
    "map = map_draw_line(centers_level1[:,::-1], assembled_line_1, color='blue', zoom_start=14)\n",
    "map"
   ]
  },
  {
   "cell_type": "markdown",
   "metadata": {},
   "source": [
    "# Create the other bus lines taking into account how the previous ones where created\n",
    "\n",
    "Contrary to the previous bus line, as we selected there two random start and end stops (in level 0), we will try to cover the entire network with few lines, therefore we choose a different start node"
   ]
  },
  {
   "cell_type": "code",
   "execution_count": null,
   "metadata": {},
   "outputs": [],
   "source": [
    "new_lines = 1\n",
    "\n",
    "assembled_lines = []\n",
    "assembled_lines.append(assembled_line_1)\n",
    "map = map_draw_line(centers_level1[:,::-1], assembled_line_1, color='blue', zoom_start=14, map=map)\n",
    "colors = ['red', 'green', 'pink', 'orange', 'purple', 'yellow', 'black']\n",
    "\n",
    "list_of_start_and_end_nodes = [[4,1]] # Informed by the previous lines, has to be the same lenght as new_lines\n",
    "\n",
    "for l in range(new_lines):\n",
    "    new_startNode_0 = list_of_start_and_end_nodes[l][0]\n",
    "    new_endNode_0 = list_of_start_and_end_nodes[l][1]\n",
    "    new_line = give_line(amenities_data, nclusters, p, new_startNode_0, new_endNode_0,'qutip', classical=True)\n",
    "\n",
    "    new_assembled = assemble_line(new_line[0], new_line[1], nclusters, p)\n",
    "    centers_level1 = hierarchical_cluster.give_centers_level(1)\n",
    "\n",
    "\n",
    "    map = map_draw_line(centers_level1[:,::-1], new_assembled, color=colors[l], zoom_start=14, map=map)\n",
    "\n",
    "map"
   ]
  },
  {
   "cell_type": "code",
   "execution_count": null,
   "metadata": {},
   "outputs": [],
   "source": [
    "# We now check if the stops are being used\n",
    "\n",
    "total_assembled = np.empty_like(assembled_lines[0])\n",
    "for line in assembled_lines:\n",
    "    total_assembled += line\n",
    "\n",
    "check_stops_usage(total_assembled)"
   ]
  },
  {
   "cell_type": "markdown",
   "metadata": {},
   "source": [
    "We have seen that we can cover the whole network by creating new lines. If for a specific number of lines L the condition is not fulfilled one can start over by adjusting the start and end nodes of the level 0 solutions. Heuristical approaches to improve the choice of those stops while mantaining sociodemographic decission making can be applied.\n",
    "\n",
    "Also, in a further iteration of the project, a different number of stops for level 0 and level 1 can be easily implemented, allowing for bus lines which travel around less regions but visit more stops in each region. \n",
    "\n",
    "Further metrics can be implemented here to improve the proposed solutions, such us the total distance covered by all the lines."
   ]
  }
 ],
 "metadata": {
  "kernelspec": {
   "display_name": ".venv",
   "language": "python",
   "name": "python3"
  },
  "language_info": {
   "codemirror_mode": {
    "name": "ipython",
    "version": 3
   },
   "file_extension": ".py",
   "mimetype": "text/x-python",
   "name": "python",
   "nbconvert_exporter": "python",
   "pygments_lexer": "ipython3",
   "version": "3.10.13"
  }
 },
 "nbformat": 4,
 "nbformat_minor": 2
}

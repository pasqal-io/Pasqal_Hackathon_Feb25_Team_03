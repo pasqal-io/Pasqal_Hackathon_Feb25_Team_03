{
 "cells": [
  {
   "cell_type": "code",
   "execution_count": null,
   "metadata": {},
   "outputs": [],
   "source": [
    "import os \n",
    "import glob\n",
    "import pandas as pd \n",
    "import numpy as np\n",
    "from main.tree.linkageTree import linkageCut\n",
    "from main.tsp.TSP_Formulation_Methods import ( \n",
    "    create_QUBO_matrix,\n",
    "    solve_qubo_with_Dwave,\n",
    "    check_solution,\n",
    "    check_solution_return,\n",
    "    compute_general_lambdas,\n",
    "    load_lambda_means,\n",
    "    brute_force_finding,\n",
    "    calculate_distances_cost_of_bidireccional_routes,\n",
    "    check_multiline_validity\n",
    ")\n",
    "from main.vqaa.vqaa_tools import ( \n",
    "    heuristical_embedding, \n",
    "    atoms_register,\n",
    "    atoms_list, \n",
    "    generate_grid,\n",
    "    run_vqaa,\n",
    "    plot_distribution,\n",
    ")\n",
    "from main.tree.utils import ( \n",
    "    view_linkage_on_map, \n",
    "    draw_centers_on_map,\n",
    "    map_draw_line,\n",
    "    convert_bitstring_to_matrix,\n",
    "    assemble_line,\n",
    "    string_to_bitstring,\n",
    ")\n",
    "from main.pipe import give_line\n",
    "from data.utils import fetch_amenities_from"
   ]
  },
  {
   "cell_type": "code",
   "execution_count": null,
   "metadata": {},
   "outputs": [],
   "source": [
    "# Load previously stored overpy lat/lon datafile for different amenities\n",
    "filepath = os.path.join('data', 'amenities-granada.csv')\n",
    "if os.path.exists(filepath):\n",
    "    amenities_data = pd.read_csv(filepath)\n",
    "else:\n",
    "    # If there is no previous data:\n",
    "    query_file = os.path.join('data', 'overpy-granada-query.txt')\n",
    "    query = None\n",
    "    with open(query_file) as file:\n",
    "        query = file.read()\n",
    "    amenities_data = fetch_amenities_from(query=query) # Defaults to Granada\n",
    "    amenities_data.to_csv(filepath)\n",
    "    \n",
    "# Create a hierarchical clustering of amenities\n",
    "hierarchical_cluster = linkageCut(amenities_data)\n",
    "# Set a specific number of clusters per levels. Max 9 in this POC\n",
    "nclusters = 6\n",
    "levels = 2\n",
    "labels = hierarchical_cluster.top_down_view_recur(nclusters=nclusters, levels=2)\n",
    "# Visualize for debugging purposes.\n",
    "view_linkage_on_map(linkage_matrix=hierarchical_cluster)"
   ]
  },
  {
   "cell_type": "code",
   "execution_count": null,
   "metadata": {},
   "outputs": [],
   "source": [
    "# Fetch the centers of the first level\n",
    "centers = hierarchical_cluster.give_centers_level(0)\n",
    "# Sanity check by drawing the graph\n",
    "draw_centers_on_map(centers, color='red')"
   ]
  },
  {
   "cell_type": "code",
   "execution_count": null,
   "metadata": {},
   "outputs": [],
   "source": [
    "np.random.seed(42)\n",
    "# Fetch the distance from the centers of the first level\n",
    "distances = hierarchical_cluster.dist_matrix_level(0, return_labels=False)\n",
    "# Set initial global parameters\n",
    "N = distances.shape[0]\n",
    "p = 3\n",
    "node_options = set(np.arange(nclusters) + 1)\n",
    "startNode_0 = np.random.choice(list(node_options))\n",
    "endNode_0 = np.random.choice(list(node_options - set([startNode_0])))\n",
    "print(\"Selected random nodes:\", startNode_0, endNode_0)\n",
    "\n",
    "# Process Parameters\n",
    "p = min(p, N-1)\n",
    "startNode_0 = min(startNode_0, N)\n",
    "endNode_0 = min(endNode_0, N)\n",
    "\n",
    "reduced_distances = distances/np.max(distances)\n",
    "maxDistance = np.max(reduced_distances)\n",
    "lambdas = compute_general_lambdas(reduced_distances, max_N=3)"
   ]
  },
  {
   "cell_type": "code",
   "execution_count": null,
   "metadata": {},
   "outputs": [],
   "source": [
    "Q_matrix_initial,_ = create_QUBO_matrix(reduced_distances, p, startNode_0 - 1, endNode_0 - 1, lambdas)   \n",
    "\n",
    "level0_sols, _ = solve_qubo_with_Dwave(Q_matrix_initial, num_reads=1000)\n",
    "\n",
    "adjacency = convert_bitstring_to_matrix(level0_sols, N=N, p=p)\n",
    "map_draw_line(centers[:, ::-1], adjacency, color='red')"
   ]
  },
  {
   "cell_type": "code",
   "execution_count": null,
   "metadata": {},
   "outputs": [],
   "source": [
    "# Formulation with initial lambdas\n",
    "level1_sols = {} # Dict that will hold the bitstring, connected level-0 clusters and corresponding start-end nodes \n",
    "nchecks = 1024\n",
    "all_indices = set(np.arange(nclusters - 1) + 1)\n",
    "for i in range(1, nclusters+1):\n",
    "    \n",
    "    connections = np.concatenate([adjacency[:,i-1].nonzero()[0], adjacency[i-1, :].nonzero()[0]], axis=0) + 1\n",
    "    print(\"----- Solving level-1:\", i, \"------\\n\")\n",
    "    print(\"connections\", connections)\n",
    "    if len(connections) > 0: #Selected\n",
    "        # Fetch the centers of the first level\n",
    "        distances, closest, _ = hierarchical_cluster.dist_matrix_label_down(\n",
    "        i,\n",
    "        connections=connections,\n",
    "        )\n",
    "        \n",
    "        startNode_ = None\n",
    "        if len(closest) >= 1:\n",
    "            startNode_ = closest[0]\n",
    "            choices = all_indices - set([startNode_])\n",
    "        if len(closest) == 2:\n",
    "            endNode_ = closest[1]\n",
    "        else:\n",
    "            endNode_ = np.random.choice(list(choices)) # POC criterion, better heuristic should be chosen\n",
    "        print(\"Start-end\", startNode_, endNode_)\n",
    "        reduced_distances = distances / np.max(distances)\n",
    "        Q_matrix_initial,_ = create_QUBO_matrix(reduced_distances, p, startNode_ - 1, endNode_ - 1, lambdas)\n",
    "        \n",
    "\n",
    "\n",
    "        sol_, _ = solve_qubo_with_Dwave(Q_matrix_initial, num_reads=1000)\n",
    "        level1_sols[i] = [sol_, closest]\n",
    "        \n",
    "    else:\n",
    "        level1_sols[i] = (np.zeros((nclusters*(p + 1))), [])\n",
    "        print('The line does not cross this level-0 cluster')\n"
   ]
  },
  {
   "cell_type": "code",
   "execution_count": null,
   "metadata": {},
   "outputs": [],
   "source": [
    "example_indx = 5\n",
    "example_centers = hierarchical_cluster.give_centers_label_down(example_indx)\n",
    "example_adj = convert_bitstring_to_matrix(level1_sols[example_indx][0],N=nclusters, p=p)\n",
    "map = map_draw_line(centers[:, ::-1], adjacency, color='red')\n",
    "map_draw_line(example_centers[:, ::-1], example_adj, color='blue', map=map)"
   ]
  },
  {
   "cell_type": "code",
   "execution_count": null,
   "metadata": {},
   "outputs": [],
   "source": [
    "assembled = assemble_line(level0_sols,level1_sols, nclusters, p)\n",
    "centers_level1 = hierarchical_cluster.give_centers_level(1)\n",
    "map = map_draw_line(centers_level1[:,::-1], assembled, color='blue', zoom_start=14)\n",
    "map"
   ]
  },
  {
   "cell_type": "code",
   "execution_count": null,
   "metadata": {},
   "outputs": [],
   "source": [
    "new_lines = 1\n",
    "assembled_lines = []\n",
    "assembled_lines.append(assembled)\n",
    "map = map_draw_line(centers_level1[:,::-1], assembled, color='blue', zoom_start=14, map=map)\n",
    "colors = ['red', 'green', 'pink', 'orange', 'purple', 'yellow', 'black']\n",
    "\n",
    "set_of_used_start_nodes = set([startNode_0])\n",
    "set_of_used_end_nodes = set([endNode_0])\n",
    "\n",
    "for l in range(new_lines):\n",
    "    new_nodes = set(np.arange(nclusters) + 1) - set_of_used_start_nodes\n",
    "    new_startNode_0 = np.random.choice(list(new_nodes))\n",
    "    new_endNode_0 = np.random.choice(list(new_nodes - set([new_startNode_0])))\n",
    "\n",
    "    set_of_used_start_nodes.add(new_startNode_0)\n",
    "    new_line = give_line(amenities_data, nclusters, p, new_startNode_0, new_endNode_0,'qutip', classical=True)\n",
    "\n",
    "    new_assembled = assemble_line(new_line[0], new_line[1], nclusters, p)\n",
    "    centers_level1 = hierarchical_cluster.give_centers_level(1)\n",
    "\n",
    "\n",
    "    map = map_draw_line(centers_level1[:,::-1], new_assembled, color=colors[l], zoom_start=14, map=map)\n",
    "\n",
    "map"
   ]
  },
  {
   "cell_type": "code",
   "execution_count": null,
   "metadata": {},
   "outputs": [],
   "source": [
    "# TODO: Implement a function that checks the validity of the multiline (it covers all the amenities)\n",
    "# TODO: Implement a function to compute cost of the multiline and try to minimize it by choosing the best start-end nodes"
   ]
  }
 ],
 "metadata": {
  "kernelspec": {
   "display_name": "expertcourse",
   "language": "python",
   "name": "python3"
  },
  "language_info": {
   "codemirror_mode": {
    "name": "ipython",
    "version": 3
   },
   "file_extension": ".py",
   "mimetype": "text/x-python",
   "name": "python",
   "nbconvert_exporter": "python",
   "pygments_lexer": "ipython3",
   "version": "3.10.13"
  }
 },
 "nbformat": 4,
 "nbformat_minor": 2
}

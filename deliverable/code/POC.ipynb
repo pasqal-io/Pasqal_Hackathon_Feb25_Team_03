{
 "cells": [
  {
   "cell_type": "code",
   "execution_count": null,
   "metadata": {},
   "outputs": [],
   "source": [
    "import os \n",
    "import glob\n",
    "import pandas as pd \n",
    "import numpy as np\n",
    "from utils.linkageTree import linkageCut\n",
    "from tsp.TSP_Formulation_Methods import ( \n",
    "    create_QUBO_matrix,\n",
    "    solve_qubo_with_Dwave,\n",
    "    check_solution, \n",
    "    load_lambda_means,\n",
    "    draw_solution_graph,\n",
    ")\n",
    "from vqaa.vqaa_tools import ( \n",
    "    heuristical_embedding, \n",
    "    atoms_register,\n",
    "    atoms_list, \n",
    "    generate_grid,\n",
    "    run_vqaa,\n",
    "    plot_distribution,\n",
    ")\n",
    "from utils.utils import ( \n",
    "    view_linkage_on_map, \n",
    "    draw_centers_on_map,\n",
    "    map_draw_line,\n",
    "    convert_bitstring_to_matrix\n",
    ")"
   ]
  },
  {
   "cell_type": "markdown",
   "metadata": {},
   "source": [
    "# Load initial data "
   ]
  },
  {
   "cell_type": "code",
   "execution_count": null,
   "metadata": {},
   "outputs": [],
   "source": [
    "# Load previously stored overpy lat/lon datafile for different amenities\n",
    "amenities_data = pd.read_csv(os.path.join(os.pardir, 'data', 'amenities-granada.csv'))\n",
    "# If there is no previous data:\n",
    "# amenities_data = utils.fetch_amenities_from() # Defaults to Granada\n",
    "# Create a hierarchical clustering of amenities\n",
    "hierarchical_cluster = linkageCut(amenities_data)\n",
    "# Set a specific number of clusters per levels\n",
    "nclusters = 6\n",
    "levels = 2\n",
    "labels = hierarchical_cluster.top_down_view_recur(nclusters=6, levels=2)\n",
    "# Visualize for debugging purposes.\n",
    "view_linkage_on_map(linkage_matrix=hierarchical_cluster)"
   ]
  },
  {
   "cell_type": "markdown",
   "metadata": {},
   "source": [
    "# First iteration"
   ]
  },
  {
   "cell_type": "code",
   "execution_count": null,
   "metadata": {},
   "outputs": [],
   "source": [
    "# Fetch the centers of the first level\n",
    "centers = hierarchical_cluster.give_centers_level(0)\n",
    "# Sanity check by drawing the graph\n",
    "draw_centers_on_map(centers)"
   ]
  },
  {
   "cell_type": "code",
   "execution_count": null,
   "metadata": {},
   "outputs": [],
   "source": [
    "# Fetch the distance from the centers of the first level\n",
    "distances = hierarchical_cluster.dist_matrix_level(0, return_labels=False)\n",
    "# Set initial global parameters\n",
    "N = distances.shape[0]\n",
    "p = 3\n",
    "\n",
    "startNode = 0\n",
    "endNode = np.random.choice(np.arange(distances.shape[0] - 1) + 1)\n",
    "\n",
    "# Process Parameters\n",
    "p = min(p, N-1)\n",
    "startNode = min(startNode, N-1)\n",
    "endNode = min(endNode, N-1)\n",
    "\n",
    "reduced_distances = distances[:N,:N]/np.max(distances[:N,:N])\n",
    "maxDistance = np.max(reduced_distances)\n",
    "# NOTE: temporary double pardir while we decide the new structure for the lambdas\n",
    "lambda_paths = glob.glob(os.path.join(os.path.pardir, os.path.pardir, 'data', 'lamdasOptimized', '*'))\n",
    "mean_lambdas = load_lambda_means(lambda_paths)\n",
    "\n",
    "# Formulation with initial lambdas\n",
    "Q_matrix_initial,_ = create_QUBO_matrix(reduced_distances, p, startNode, endNode, mean_lambdas)"
   ]
  },
  {
   "cell_type": "code",
   "execution_count": null,
   "metadata": {},
   "outputs": [],
   "source": [
    "solution_Dwave, _ = solve_qubo_with_Dwave(Q_matrix_initial, num_reads=1000)\n",
    "print(\"\\nD-Wave solution:\")\n",
    "print(solution_Dwave)\n",
    "check_solution(solution_Dwave, N,  p, startNode, endNode)"
   ]
  },
  {
   "cell_type": "code",
   "execution_count": null,
   "metadata": {},
   "outputs": [],
   "source": [
    "adjacency = convert_bitstring_to_matrix(solution_Dwave, N=N, p=p)\n",
    "map_draw_line(centers[:, ::-1], adjacency, color='blue')"
   ]
  },
  {
   "cell_type": "code",
   "execution_count": null,
   "metadata": {},
   "outputs": [],
   "source": [
    "# coords = heuristical_embedding(atoms_list(len(Q_matrix_initial)), generate_grid(50, 50,1), Q_matrix_initial)\n",
    "# register = atoms_register(coords)"
   ]
  },
  {
   "cell_type": "code",
   "execution_count": null,
   "metadata": {},
   "outputs": [],
   "source": [
    "# Why is it takiung > 5minutes????\n",
    "# C, x = run_vqaa(Q_matrix_initial, register, \"mps\")"
   ]
  },
  {
   "cell_type": "markdown",
   "metadata": {},
   "source": [
    "# Second iteration"
   ]
  },
  {
   "cell_type": "code",
   "execution_count": null,
   "metadata": {},
   "outputs": [],
   "source": [
    "connections = np.concatenate([adjacency[:,0].nonzero()[0], adjacency[0, :].nonzero()[0]], axis=0)\n",
    "# Fetch the centers of the first level\n",
    "distances, indices, _ = hierarchical_cluster.dist_matrix_label_down(\n",
    "    1,\n",
    "    connections=connections,\n",
    ")\n",
    "print(distances)"
   ]
  },
  {
   "cell_type": "code",
   "execution_count": null,
   "metadata": {},
   "outputs": [],
   "source": [
    "# Formulation with initial lambdas\n",
    "choices = set(np.arange(distances.shape[0] - 1) + 1)\n",
    "print(choices)\n",
    "startNode = None\n",
    "if len(indices) == 1:\n",
    "    startNode = indices[0]\n",
    "if len(indices) == 2:\n",
    "    endNode = indices[1]\n",
    "if startNode:\n",
    "    choices = choices - set([startNode])\n",
    "if not endNode:\n",
    "    endNode = np.random.choice(choices)\n",
    "\n",
    "print(startNode)\n",
    "print(endNode)\n",
    "\n",
    "Q_matrix_initial,_ = create_QUBO_matrix(reduced_distances, p, startNode, endNode, mean_lambdas)\n",
    "solution_Dwave, _ = solve_qubo_with_Dwave(Q_matrix_initial, num_reads=1000)\n",
    "print(\"\\nD-Wave solution:\")\n",
    "print(solution_Dwave)\n",
    "check_solution(solution_Dwave, N,  p, startNode, endNode)\n",
    "next_adjacency = convert_bitstring_to_matrix(solution_Dwave, N=N, p=p)"
   ]
  },
  {
   "cell_type": "code",
   "execution_count": null,
   "metadata": {},
   "outputs": [],
   "source": [
    "next_centers = hierarchical_cluster.give_centers_label_down(1)\n",
    "map = map_draw_line(centers[:, ::-1], adjacency, color='blue')\n",
    "map_draw_line(next_centers[:, ::-1], next_adjacency, color='red', map=map)"
   ]
  },
  {
   "cell_type": "code",
   "execution_count": null,
   "metadata": {},
   "outputs": [],
   "source": []
  }
 ],
 "metadata": {
  "kernelspec": {
   "display_name": ".venv",
   "language": "python",
   "name": "python3"
  },
  "language_info": {
   "codemirror_mode": {
    "name": "ipython",
    "version": 3
   },
   "file_extension": ".py",
   "mimetype": "text/x-python",
   "name": "python",
   "nbconvert_exporter": "python",
   "pygments_lexer": "ipython3",
   "version": "3.10.12"
  }
 },
 "nbformat": 4,
 "nbformat_minor": 2
}

{
 "cells": [
  {
   "cell_type": "markdown",
   "metadata": {},
   "source": [
    "# Imports"
   ]
  },
  {
   "cell_type": "code",
   "execution_count": 71,
   "metadata": {},
   "outputs": [],
   "source": [
    "import random\n",
    "import numpy as np\n",
    "import networkx as nx\n",
    "import matplotlib.pyplot as plt\n",
    "import tkinter as tk"
   ]
  },
  {
   "cell_type": "markdown",
   "metadata": {},
   "source": [
    "# Conditions"
   ]
  },
  {
   "cell_type": "code",
   "execution_count": 72,
   "metadata": {},
   "outputs": [],
   "source": [
    "def keep(matriz):\n",
    "    num_paradas = 4\n",
    "    # Condicion pimera :  el número de paradas es fijo e igual a num_paradas\n",
    "    if np.sum(matriz) != num_paradas:\n",
    "        print('Condicion pimera :  el número de paradas es fijo e igual a num_paradas')\n",
    "        return False\n",
    "    # Condicion tercera : el viaje tiene que ser un camino cerrado\n",
    "    elif np.trace(np.linalg.matrix_power(matriz, num_paradas)) <=1:\n",
    "        print('Condicion tercera : el viaje tiene que ser un camino cerrado')\n",
    "        return False\n",
    "    # Condicion cuarta : no puedo ir de una parada a esa misma parada\n",
    "    elif np.all(np.diag(matriz) != 0):\n",
    "        print('Condicion cuarta : no puedo ir de una parada a esa misma parada')\n",
    "        return False\n",
    "    # Condicion quinta : el grado de (entrada,salida) tiene que ser como mucho (1,1)\n",
    "    elif np.all(np.sum(matriz, axis=1) > 1):\n",
    "        print('Condicion quinta : el grado de (entrada,salida) tiene que ser como mucho (1,1)')\n",
    "        return False\n",
    "    elif np.all(np.sum(matriz, axis=0) > 1):\n",
    "        print('Condicion quinta : el grado de (entrada,salida) tiene que ser como mucho (1,1)')\n",
    "        return False\n",
    "    else:\n",
    "        return True"
   ]
  },
  {
   "cell_type": "code",
   "execution_count": 73,
   "metadata": {},
   "outputs": [],
   "source": [
    "def keep_matrices(lista_matrices):\n",
    "    keep_ = False\n",
    "    suma_columnas = 0\n",
    "    matriz_suma = np.zeros_like(lista_matrices[0]) \n",
    "    for A in lista_matrices:\n",
    "        keep_ = keep(A)\n",
    "        # Condicion segunda : todas las paradas se usan al menos una vez\n",
    "        suma_columnas += np.sum(A, axis=0)\n",
    "        matriz_suma += A\n",
    "    # Condicion segunda : todas las paradas se usan al menos una vez\n",
    "    if np.all(suma_columnas < 1):\n",
    "        print('Condicion segunda : todas las paradas se usan al menos una vez')\n",
    "        keep_ = False\n",
    "    # condicion sexta : no hay componentes disconexas\n",
    "    elif np.any(np.linalg.matrix_power(matriz_suma, matriz_suma.shape[0]-1)) <= 0:\n",
    "        print('condicion sexta : no hay componentes disconexas')\n",
    "        keep_ = False\n",
    "\n",
    "    return keep_"
   ]
  },
  {
   "cell_type": "code",
   "execution_count": 74,
   "metadata": {},
   "outputs": [],
   "source": [
    "lista_matrices = [\n",
    "    np.array([[0,1,0,0],\n",
    "              [1,0,0,0],\n",
    "              [0,0,0,1],\n",
    "              [0,0,1,0]]\n",
    "    )\n",
    "\n",
    "]"
   ]
  },
  {
   "cell_type": "code",
   "execution_count": null,
   "metadata": {},
   "outputs": [],
   "source": [
    "print(keep_matrices(lista_matrices))"
   ]
  },
  {
   "cell_type": "markdown",
   "metadata": {},
   "source": [
    "# Random Graph"
   ]
  },
  {
   "cell_type": "code",
   "execution_count": 76,
   "metadata": {},
   "outputs": [],
   "source": [
    "def generar_grafo_aleatorio(num_nodos, num=200000):\n",
    "    lista_grafos = []\n",
    "    lista_matrices = []\n",
    "    for _ in range(num):\n",
    "        # Crear una matriz de adyacencia vacía (de tamaño num_nodos x num_nodos)\n",
    "        matriz_adyacencia = np.zeros((num_nodos, num_nodos))\n",
    "\n",
    "        # Aplicar condiciones sobre la matriz de adyacencia\n",
    "        for i in range(num_nodos):\n",
    "            for j in range(num_nodos):\n",
    "                # Probabilidad de generar una arista de i a j\n",
    "                matriz_adyacencia[i, j] = random.choice([0, 1])\n",
    "        if keep(matriz_adyacencia):\n",
    "            lista_matrices.append(matriz_adyacencia)\n",
    "            # Crear un grafo dirigido usando la matriz de adyacencia\n",
    "            G = nx.DiGraph()\n",
    "\n",
    "            for i in range(num_nodos):\n",
    "                for j in range(num_nodos):\n",
    "                    if matriz_adyacencia[i, j] != 0:\n",
    "                        G.add_edge(i, j)\n",
    "            \n",
    "            lista_grafos.append(G)\n",
    "\n",
    "    return lista_grafos, lista_matrices"
   ]
  },
  {
   "cell_type": "markdown",
   "metadata": {},
   "source": [
    "# Interactive Graph"
   ]
  },
  {
   "cell_type": "code",
   "execution_count": null,
   "metadata": {},
   "outputs": [],
   "source": [
    "class GrafoInteractivo:\n",
    "    def __init__(self, num_nodos):\n",
    "        self.num_nodos = num_nodos\n",
    "        self.matriz_adyacencia = np.zeros((num_nodos, num_nodos), dtype=int)\n",
    "        self.nodos = []\n",
    "        self.aristas = []\n",
    "        self.nodo_seleccionado = None\n",
    "\n",
    "        # Crear ventana principal\n",
    "        self.ventana = tk.Tk()\n",
    "        self.ventana.title(\"Crear grafo dirigido\")\n",
    "\n",
    "        # Crear canvas para el grafo\n",
    "        self.canvas = tk.Canvas(self.ventana, width=600, height=600, bg=\"white\")\n",
    "        self.canvas.pack()\n",
    "\n",
    "        # Dibujar nodos\n",
    "        self.dibujar_nodos()\n",
    "\n",
    "        # Eventos\n",
    "        self.canvas.bind(\"<Button-1>\", self.seleccionar_nodo)\n",
    "        self.ventana.protocol(\"WM_DELETE_WINDOW\", self.salir)\n",
    "\n",
    "        # Botón para mostrar la matriz de adyacencia\n",
    "        self.boton_matriz = tk.Button(self.ventana, text=\"Mostrar matriz de adyacencia\", command=self.mostrar_matriz)\n",
    "        self.boton_matriz.pack()\n",
    "\n",
    "        # Iniciar loop de la ventana\n",
    "        self.ventana.mainloop()\n",
    "\n",
    "    def dibujar_nodos(self):\n",
    "        # Dibujar nodos de forma circular\n",
    "        centro_x, centro_y = 300, 300\n",
    "        radio = 200\n",
    "        for i in range(self.num_nodos):\n",
    "            angulo = 2 * np.pi * i / self.num_nodos\n",
    "            x = centro_x + radio * np.cos(angulo)\n",
    "            y = centro_y + radio * np.sin(angulo)\n",
    "            self.nodos.append((x, y))\n",
    "            self.canvas.create_oval(x - 15, y - 15, x + 15, y + 15, fill=\"lightblue\", outline=\"black\", width=2)\n",
    "            self.canvas.create_text(x, y, text=str(i), font=(\"Arial\", 12))\n",
    "\n",
    "    def seleccionar_nodo(self, event):\n",
    "        # Determinar si se ha hecho clic en un nodo\n",
    "        for i, (x, y) in enumerate(self.nodos):\n",
    "            if (x - event.x) ** 2 + (y - event.y) ** 2 <= 15 ** 2:\n",
    "                if self.nodo_seleccionado is None:\n",
    "                    # Seleccionar el primer nodo\n",
    "                    self.nodo_seleccionado = i\n",
    "                    self.canvas.itemconfig(self.canvas.find_withtag(\"current\"), fill=\"yellow\")\n",
    "                else:\n",
    "                    # Crear arista dirigida entre el nodo seleccionado y el clicado\n",
    "                    nodo_origen = self.nodo_seleccionado\n",
    "                    nodo_destino = i\n",
    "                    self.matriz_adyacencia[nodo_origen, nodo_destino] = 1\n",
    "                    self.aristas.append((nodo_origen, nodo_destino))\n",
    "\n",
    "                    # Dibujar la arista\n",
    "                    x1, y1 = self.nodos[nodo_origen]\n",
    "                    x2, y2 = self.nodos[nodo_destino]\n",
    "                    self.dibujar_arista(x1, y1, x2, y2)\n",
    "\n",
    "                    # Deseleccionar el nodo seleccionado\n",
    "                    self.nodo_seleccionado = None\n",
    "                    self.canvas.itemconfig(self.canvas.find_withtag(\"current\"), fill=\"lightblue\")\n",
    "                break\n",
    "\n",
    "    def dibujar_arista(self, x1, y1, x2, y2):\n",
    "        # Dibujar línea con flecha entre dos nodos\n",
    "        self.canvas.create_line(x1, y1, x2, y2, arrow=tk.LAST, width=2, fill=\"black\")\n",
    "\n",
    "    def mostrar_matriz(self):\n",
    "        # Imprimir matriz de adyacencia\n",
    "        print(\"Matriz de adyacencia:\")\n",
    "        print(self.matriz_adyacencia)\n",
    "\n",
    "    def salir(self):\n",
    "        self.ventana.destroy()\n",
    "\n",
    "# Solicitar al usuario el número de nodos\n",
    "num_nodos = int(input(\"Ingrese el número de nodos: \"))\n",
    "GrafoInteractivo(num_nodos)"
   ]
  }
 ],
 "metadata": {
  "kernelspec": {
   "display_name": "pq",
   "language": "python",
   "name": "python3"
  },
  "language_info": {
   "codemirror_mode": {
    "name": "ipython",
    "version": 3
   },
   "file_extension": ".py",
   "mimetype": "text/x-python",
   "name": "python",
   "nbconvert_exporter": "python",
   "pygments_lexer": "ipython3",
   "version": "3.11.5"
  }
 },
 "nbformat": 4,
 "nbformat_minor": 2
}
